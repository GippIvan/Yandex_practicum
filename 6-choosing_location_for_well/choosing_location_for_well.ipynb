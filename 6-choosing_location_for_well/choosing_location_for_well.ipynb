{
 "cells": [
  {
   "cell_type": "markdown",
   "metadata": {},
   "source": [
    "# Описание проекта"
   ]
  },
  {
   "cell_type": "markdown",
   "metadata": {},
   "source": [
    "Вам предоставлены пробы нефти в трёх регионах: в каждом 10 000 месторождений, где измерили качество нефти и объём её запасов. Постройте модель машинного обучения, которая поможет определить регион, где добыча принесёт наибольшую прибыль. Проанализируйте возможную прибыль и риски техникой *Bootstrap.*\n",
    "\n",
    "Шаги для выбора локации:\n",
    "\n",
    "- В избранном регионе ищут месторождения, для каждого определяют значения признаков;\n",
    "- Строят модель и оценивают объём запасов;\n",
    "- Выбирают месторождения с самым высокими оценками значений. Количество месторождений зависит от бюджета компании и стоимости разработки одной скважины;\n",
    "- Прибыль равна суммарной прибыли отобранных месторождений."
   ]
  },
  {
   "cell_type": "markdown",
   "metadata": {},
   "source": [
    "# 1. Загрузка и подготовка данных"
   ]
  },
  {
   "cell_type": "code",
   "execution_count": 1,
   "metadata": {},
   "outputs": [],
   "source": [
    "import pandas as pd\n",
    "from sklearn.linear_model import LinearRegression\n",
    "from sklearn.model_selection import train_test_split\n",
    "from sklearn.metrics import r2_score\n",
    "from sklearn.metrics import mean_squared_error\n",
    "from numpy.random import RandomState\n",
    "from scipy import stats as st"
   ]
  },
  {
   "cell_type": "code",
   "execution_count": 2,
   "metadata": {},
   "outputs": [],
   "source": [
    "geo_1 = pd.read_csv('/datasets/geo_data_0.csv')\n",
    "geo_2 = pd.read_csv('/datasets/geo_data_1.csv')\n",
    "geo_3 = pd.read_csv('/datasets/geo_data_2.csv')"
   ]
  },
  {
   "cell_type": "code",
   "execution_count": 3,
   "metadata": {},
   "outputs": [
    {
     "name": "stdout",
     "output_type": "stream",
     "text": [
      "      id        f0        f1        f2     product\n",
      "0  txEyH  0.705745 -0.497823  1.221170  105.280062\n",
      "1  2acmU  1.334711 -0.340164  4.365080   73.037750\n",
      "2  409Wp  1.022732  0.151990  1.419926   85.265647\n",
      "3  iJLyR -0.032172  0.139033  2.978566  168.620776\n",
      "4  Xdl7t  1.988431  0.155413  4.751769  154.036647\n",
      "5  wX4Hy  0.969570  0.489775 -0.735383   64.741541\n",
      "6  tL6pL  0.645075  0.530656  1.780266   49.055285\n",
      "7  BYPU6 -0.400648  0.808337 -5.624670   72.943292\n",
      "8  j9Oui  0.643105 -0.551583  2.372141  113.356160\n",
      "9  OLuZU  2.173381  0.563698  9.441852  127.910945\n",
      "      id         f0         f1        f2     product\n",
      "0  kBEdx -15.001348  -8.276000 -0.005876    3.179103\n",
      "1  62mP7  14.272088  -3.475083  0.999183   26.953261\n",
      "2  vyE1P   6.263187  -5.948386  5.001160  134.766305\n",
      "3  KcrkZ -13.081196 -11.506057  4.999415  137.945408\n",
      "4  AHL4O  12.702195  -8.147433  5.004363  134.766305\n",
      "5  HHckp  -3.327590  -2.205276  3.003647   84.038886\n",
      "6  h5Ujo -11.142655 -10.133399  4.002382  110.992147\n",
      "7  muH9x   4.234715  -0.001354  2.004588   53.906522\n",
      "8  YiRkx  13.355129  -0.332068  4.998647  134.766305\n",
      "9  jG6Gi   1.069227 -11.025667  4.997844  137.945408\n",
      "      id        f0        f1        f2     product\n",
      "0  fwXo0 -1.146987  0.963328 -0.828965   27.758673\n",
      "1  WJtFt  0.262778  0.269839 -2.530187   56.069697\n",
      "2  ovLUW  0.194587  0.289035 -5.586433   62.871910\n",
      "3  q6cA6  2.236060 -0.553760  0.930038  114.572842\n",
      "4  WPMUX -0.515993  1.716266  5.899011  149.600746\n",
      "5  LzZXx -0.758092  0.710691  2.585887   90.222465\n",
      "6  WBHRv -0.574891  0.317727  1.773745   45.641478\n",
      "7  XO8fn -1.906649 -2.458350 -0.177097   72.480640\n",
      "8  ybmQ5  1.776292 -0.279356  3.004156  106.616832\n",
      "9  OilcN -1.214452 -0.439314  5.922514   52.954532\n"
     ]
    }
   ],
   "source": [
    "print(geo_1.head(10))\n",
    "print(geo_2.head(10))\n",
    "print(geo_3.head(10))\n"
   ]
  },
  {
   "cell_type": "code",
   "execution_count": 4,
   "metadata": {},
   "outputs": [
    {
     "name": "stdout",
     "output_type": "stream",
     "text": [
      "<class 'pandas.core.frame.DataFrame'>\n",
      "RangeIndex: 100000 entries, 0 to 99999\n",
      "Data columns (total 5 columns):\n",
      "id         100000 non-null object\n",
      "f0         100000 non-null float64\n",
      "f1         100000 non-null float64\n",
      "f2         100000 non-null float64\n",
      "product    100000 non-null float64\n",
      "dtypes: float64(4), object(1)\n",
      "memory usage: 3.8+ MB\n",
      "None\n",
      "<class 'pandas.core.frame.DataFrame'>\n",
      "RangeIndex: 100000 entries, 0 to 99999\n",
      "Data columns (total 5 columns):\n",
      "id         100000 non-null object\n",
      "f0         100000 non-null float64\n",
      "f1         100000 non-null float64\n",
      "f2         100000 non-null float64\n",
      "product    100000 non-null float64\n",
      "dtypes: float64(4), object(1)\n",
      "memory usage: 3.8+ MB\n",
      "None\n",
      "<class 'pandas.core.frame.DataFrame'>\n",
      "RangeIndex: 100000 entries, 0 to 99999\n",
      "Data columns (total 5 columns):\n",
      "id         100000 non-null object\n",
      "f0         100000 non-null float64\n",
      "f1         100000 non-null float64\n",
      "f2         100000 non-null float64\n",
      "product    100000 non-null float64\n",
      "dtypes: float64(4), object(1)\n",
      "memory usage: 3.8+ MB\n",
      "None\n"
     ]
    }
   ],
   "source": [
    "print(geo_1.info())\n",
    "print(geo_2.info())\n",
    "print(geo_3.info())"
   ]
  },
  {
   "cell_type": "code",
   "execution_count": 5,
   "metadata": {},
   "outputs": [
    {
     "name": "stdout",
     "output_type": "stream",
     "text": [
      "id         0\n",
      "f0         0\n",
      "f1         0\n",
      "f2         0\n",
      "product    0\n",
      "dtype: int64\n",
      "id         0\n",
      "f0         0\n",
      "f1         0\n",
      "f2         0\n",
      "product    0\n",
      "dtype: int64\n",
      "id         0\n",
      "f0         0\n",
      "f1         0\n",
      "f2         0\n",
      "product    0\n",
      "dtype: int64\n"
     ]
    }
   ],
   "source": [
    "print(geo_1.isnull().sum())\n",
    "print(geo_2.isnull().sum())\n",
    "print(geo_3.isnull().sum())"
   ]
  },
  {
   "cell_type": "code",
   "execution_count": 6,
   "metadata": {},
   "outputs": [
    {
     "name": "stdout",
     "output_type": "stream",
     "text": [
      "0\n",
      "0\n",
      "0\n"
     ]
    }
   ],
   "source": [
    "print(geo_1.duplicated().sum())\n",
    "print(geo_2.duplicated().sum())\n",
    "print(geo_3.duplicated().sum())"
   ]
  },
  {
   "cell_type": "markdown",
   "metadata": {},
   "source": [
    "#### Я загрузил 3 датасета разных локаций, просмотрел первые 10 строк и информацию датасетов с помощью Info.\n",
    "\n",
    "#### проверил данные на пропуски и дубликаты, таковых не оказалось. На мой взгляд данные полностью готовы к работе."
   ]
  },
  {
   "cell_type": "markdown",
   "metadata": {},
   "source": [
    "# 2. Обучение и проверка модели"
   ]
  },
  {
   "cell_type": "markdown",
   "metadata": {},
   "source": [
    "### 2.1. Разбейте данные на обучающую и валидационную выборки в соотношении 75:25."
   ]
  },
  {
   "cell_type": "code",
   "execution_count": 8,
   "metadata": {},
   "outputs": [],
   "source": [
    "target_1 = geo_1['product']\n",
    "features_1 = geo_1.drop(['product', 'id'], axis = 1)\n",
    "\n",
    "target_2 = geo_2['product']\n",
    "features_2 = geo_2.drop(['product', 'id'], axis = 1)\n",
    "\n",
    "target_3 = geo_3['product']\n",
    "features_3 = geo_3.drop(['product', 'id'], axis = 1)"
   ]
  },
  {
   "cell_type": "code",
   "execution_count": 9,
   "metadata": {},
   "outputs": [],
   "source": [
    "features_train_2, features_valid_2, target_train_2, target_valid_2 = train_test_split(\n",
    "    features_2, target_2, test_size = 0.25, random_state = 12345)"
   ]
  },
  {
   "cell_type": "code",
   "execution_count": 10,
   "metadata": {},
   "outputs": [],
   "source": [
    "features_train_1, features_valid_1, target_train_1, target_valid_1 = train_test_split(\n",
    "    features_1, target_1, test_size = 0.25, random_state = 12345)"
   ]
  },
  {
   "cell_type": "code",
   "execution_count": 11,
   "metadata": {},
   "outputs": [],
   "source": [
    "features_train_3, features_valid_3, target_train_3, target_valid_3 = train_test_split(\n",
    "    features_3, target_3, test_size = 0.25, random_state = 12345)"
   ]
  },
  {
   "cell_type": "markdown",
   "metadata": {},
   "source": [
    "#### Я загрузил train_test_split и с его помощью разбил выборку на валидационную и тренировочную в необходимых пропорциях."
   ]
  },
  {
   "cell_type": "markdown",
   "metadata": {},
   "source": [
    "### 2.2. Обучите модель и сделайте предсказания на валидационной выборке."
   ]
  },
  {
   "cell_type": "code",
   "execution_count": 13,
   "metadata": {},
   "outputs": [],
   "source": [
    "model_1 = LinearRegression().fit(features_train_1, target_train_1)\n",
    "model_2 = LinearRegression().fit(features_train_2, target_train_2)\n",
    "model_3 = LinearRegression().fit(features_train_3, target_train_3)"
   ]
  },
  {
   "cell_type": "code",
   "execution_count": 14,
   "metadata": {},
   "outputs": [
    {
     "name": "stdout",
     "output_type": "stream",
     "text": [
      "R2 Score_1 0.27994321524487786\n",
      "MSE_1 1412.2129364399243\n",
      "RMSE_1 37.5794217150813\n",
      "средний запас 1 92.07859674082927\n"
     ]
    }
   ],
   "source": [
    "predicted_valid_1 = model_1.predict(features_valid_1)\n",
    "print('R2 Score_1', r2_score(target_valid_1, predicted_valid_1))\n",
    "mse_1 = mean_squared_error(target_valid_1, predicted_valid_1)\n",
    "print('MSE_1', mse_1)\n",
    "print('RMSE_1', mse_1**0.5)\n",
    "print('средний запас 1', target_valid_1.mean())"
   ]
  },
  {
   "cell_type": "code",
   "execution_count": 15,
   "metadata": {},
   "outputs": [
    {
     "name": "stdout",
     "output_type": "stream",
     "text": [
      "R2 Score_2 0.9996233978805127\n",
      "MSE_2 0.7976263360391139\n",
      "RMSE_2 0.893099286775616\n",
      "средний запас 2 68.72313602435997\n"
     ]
    }
   ],
   "source": [
    "predicted_valid_2 = model_2.predict(features_valid_2)\n",
    "print('R2 Score_2', r2_score(target_valid_2, predicted_valid_2))\n",
    "mse_2 = mean_squared_error(target_valid_2, predicted_valid_2)\n",
    "print('MSE_2', mse_2)\n",
    "print('RMSE_2', mse_2**0.5)\n",
    "print('средний запас 2', target_valid_2.mean())"
   ]
  },
  {
   "cell_type": "code",
   "execution_count": 16,
   "metadata": {},
   "outputs": [
    {
     "name": "stdout",
     "output_type": "stream",
     "text": [
      "R2 Score_3 0.20524758386040443\n",
      "MSE_3 1602.3775813236196\n",
      "RMSE_3 40.02970873393434\n",
      "средний запас 3 94.88423280885438\n"
     ]
    }
   ],
   "source": [
    "predicted_valid_3 = model_3.predict(features_valid_3)\n",
    "print('R2 Score_3', r2_score(target_valid_3, predicted_valid_3))\n",
    "mse_3 = mean_squared_error(target_valid_3, predicted_valid_3)\n",
    "print('MSE_3', mse_3)\n",
    "print('RMSE_3', mse_3**0.5)\n",
    "print('средний запас 3', target_valid_3.mean())"
   ]
  },
  {
   "cell_type": "markdown",
   "metadata": {},
   "source": [
    "#### По первой и третьей локации примерна одинаковая сиуация, RMSE около 35% от среднего показателя. \n",
    "\n",
    "#### На мой взгляд модели конечно не идеальны, но результат выше 50%, что вероятно говорит об адекватности моделей\n",
    "\n",
    "#### С второй локацией и моделью по ней я получил необычайно точную модель с r2 практически 1, соответсввенно и ошибок в ней практически нет."
   ]
  },
  {
   "cell_type": "markdown",
   "metadata": {},
   "source": [
    "# 3. Подготовка к расчёту прибыли"
   ]
  },
  {
   "cell_type": "markdown",
   "metadata": {},
   "source": [
    "### 3.1. Сохраните в коде все ключевые значения для расчётов."
   ]
  },
  {
   "cell_type": "code",
   "execution_count": 18,
   "metadata": {},
   "outputs": [],
   "source": [
    "budjet = 10000000000\n",
    "well_drill = 50000000\n",
    "per_bar = 4500"
   ]
  },
  {
   "cell_type": "markdown",
   "metadata": {},
   "source": [
    "#### предоставленные мне данные (бюджет, трата на бурение скважины, цена за баррель) я сохранил в переменных"
   ]
  },
  {
   "cell_type": "markdown",
   "metadata": {},
   "source": [
    "### 3.2. Посчитайте минимальный средний объём сырья в месторождениях региона, достаточный для его разработки. Напишите выводы."
   ]
  },
  {
   "cell_type": "code",
   "execution_count": 19,
   "metadata": {},
   "outputs": [
    {
     "name": "stdout",
     "output_type": "stream",
     "text": [
      "Количество скважин, которые компания может пробурить при текущем буджете : 200\n",
      "минимальные запасы нефти месторождения, окупающие его бурение : 11111.111111111111\n"
     ]
    }
   ],
   "source": [
    "print('Количество скважин, которые компания может пробурить при текущем буджете :', int(budjet / well_drill))\n",
    "print('минимальные запасы нефти месторождения, окупающие его бурение :', well_drill/per_bar)"
   ]
  },
  {
   "cell_type": "markdown",
   "metadata": {},
   "source": [
    "#### При текущем бюджете и тратах, компания может позволить себе 200 скважин, запас которых должен быть выже 11111 баррелей "
   ]
  },
  {
   "cell_type": "markdown",
   "metadata": {},
   "source": [
    "### 3.3. Напишите функцию для расчёта прибыли по набору отобранных месторождений и предсказаний модели."
   ]
  },
  {
   "cell_type": "code",
   "execution_count": 28,
   "metadata": {},
   "outputs": [],
   "source": [
    "def revenue(target, predict, count):\n",
    "    predicted = predict.sort_values(ascending = False)\n",
    "    selected = target[predicted.index][:count]\n",
    "    return per_bar * 1000 * selected.sum() - budjet\n",
    "\n"
   ]
  },
  {
   "cell_type": "markdown",
   "metadata": {},
   "source": [
    "#### done"
   ]
  },
  {
   "cell_type": "markdown",
   "metadata": {},
   "source": [
    "# 4. Расчёт прибыли и рисков "
   ]
  },
  {
   "cell_type": "code",
   "execution_count": 21,
   "metadata": {},
   "outputs": [],
   "source": [
    "state = RandomState(12345)\n"
   ]
  },
  {
   "cell_type": "markdown",
   "metadata": {},
   "source": [
    "### 4.1. Примените технику Bootstrap с 1000 выборок, чтобы найти распределение прибыли."
   ]
  },
  {
   "cell_type": "code",
   "execution_count": 22,
   "metadata": {},
   "outputs": [
    {
     "name": "stderr",
     "output_type": "stream",
     "text": [
      "/opt/conda/lib/python3.7/site-packages/pandas/core/series.py:1143: FutureWarning: \n",
      "Passing list-likes to .loc or [] with any missing label will raise\n",
      "KeyError in the future, you can use .reindex() as an alternative.\n",
      "\n",
      "See the documentation here:\n",
      "https://pandas.pydata.org/pandas-docs/stable/user_guide/indexing.html#deprecate-loc-reindex-listlike\n",
      "  return self.loc[key]\n"
     ]
    }
   ],
   "source": [
    "target_valid_1 = pd.Series(target_valid_1)\n",
    "predicted_valid_1 = pd.Series(predicted_valid_1)\n",
    "values = []\n",
    "for i in range(1000):\n",
    "    target_subsample = target_valid_1.sample(n=500, replace=True, random_state=state)\n",
    "    pred_subsample = predicted_valid_1[target_subsample.index]\n",
    "    values.append(revenue(target_subsample, pred_subsample, 200))"
   ]
  },
  {
   "cell_type": "markdown",
   "metadata": {},
   "source": [
    "#### используя функцию полученную выше, я применил бутстреп к предсказаниям полученными моделью по первой локации. в параметрах функции я указал количество меторождений исходя из бюджета - 200"
   ]
  },
  {
   "cell_type": "markdown",
   "metadata": {},
   "source": [
    "### 4.2. Найдите среднюю прибыль, 95%-й доверительный интервал и риск убытков."
   ]
  },
  {
   "cell_type": "code",
   "execution_count": 23,
   "metadata": {},
   "outputs": [
    {
     "name": "stdout",
     "output_type": "stream",
     "text": [
      "95% доверительный интервал локации 1 : (72549161014.92882, 72909357896.74953)\n",
      "Средняя выручка локации 1 : 72729259455.83917\n"
     ]
    }
   ],
   "source": [
    "values = pd.Series(values)\n",
    "confidence_interval = st.t.interval(0.95, len(values)-1, values.mean(), values.sem())\n",
    "print('95% доверительный интервал локации 1 :', confidence_interval)\n",
    "print('Средняя выручка локации 1 :', values.mean())"
   ]
  },
  {
   "cell_type": "markdown",
   "metadata": {},
   "source": [
    "#### Я получил доверительный интервал 72.5 - 72.9 миллиарда. Мне кажется что риска убытков нет.\n",
    "\n",
    "### Повторю прерыдущие пункты на остальных локациях:"
   ]
  },
  {
   "cell_type": "code",
   "execution_count": 24,
   "metadata": {},
   "outputs": [],
   "source": [
    "\n",
    "target_valid_2 = pd.Series(target_valid_2)\n",
    "predicted_valid_2 = pd.Series(predicted_valid_2)\n",
    "values_2 = []\n",
    "for i in range(1000):\n",
    "    target_subsample2 = target_valid_2.sample(n=500, replace=True, random_state=state)\n",
    "    pred_subsample2 = predicted_valid_2[target_subsample2.index]\n",
    "    values_2.append(revenue(target_subsample2, pred_subsample2, 200))"
   ]
  },
  {
   "cell_type": "code",
   "execution_count": 25,
   "metadata": {},
   "outputs": [
    {
     "name": "stdout",
     "output_type": "stream",
     "text": [
      "95% доверительный интервал локации 2 : (51701061547.19408, 52068642354.0863)\n",
      "Средняя выручка локации 2 : 51884851950.64019\n"
     ]
    }
   ],
   "source": [
    "values_2 = pd.Series(values_2)\n",
    "confidence_interval_2 = st.t.interval(0.95, len(values_2)-1, values_2.mean(), values_2.sem())\n",
    "print('95% доверительный интервал локации 2 :', confidence_interval_2)\n",
    "print('Средняя выручка локации 2 :', values_2.mean())"
   ]
  },
  {
   "cell_type": "code",
   "execution_count": null,
   "metadata": {},
   "outputs": [],
   "source": [
    "\n",
    "target_valid_3 = pd.Series(target_valid_3)\n",
    "predicted_valid_3 = pd.Series(predicted_valid_3)\n",
    "values_3 = []\n",
    "for i in range(1000):\n",
    "    target_subsample3 = target_valid_3.sample(n=500, replace=True, random_state=state)\n",
    "    pred_subsample3 = predicted_valid_3[target_subsample3.index]\n",
    "    values_3.append(revenue(target_subsample3, pred_subsample3, 200))"
   ]
  },
  {
   "cell_type": "code",
   "execution_count": 27,
   "metadata": {},
   "outputs": [
    {
     "name": "stdout",
     "output_type": "stream",
     "text": [
      "95% доверительный интервал локации 3 : (75011491431.25368, 75380153097.89415)\n",
      "Средняя выручка локации 3 : 75195822264.57391\n"
     ]
    }
   ],
   "source": [
    "values_3 = pd.Series(values_3)\n",
    "confidence_interval_3 = st.t.interval(0.95, len(values_3)-1, values_3.mean(), values_3.sem())\n",
    "print('95% доверительный интервал локации 3 :', confidence_interval_3)\n",
    "print('Средняя выручка локации 3 :', values_3.mean())"
   ]
  },
  {
   "cell_type": "markdown",
   "metadata": {},
   "source": [
    "### Вывод\n",
    "#### Из полученных данных я могу судить что все регионы прибыльны и риска убытков нет. Но выбрать для освоения стоит 3ю локацию, тк ожидаемая прибыль с нее больше остальных, и доверительный интервал меньше, более предсказуемый результат."
   ]
  },
  {
   "cell_type": "code",
   "execution_count": null,
   "metadata": {},
   "outputs": [],
   "source": []
  }
 ],
 "metadata": {
  "kernelspec": {
   "display_name": "Python 3",
   "language": "python",
   "name": "python3"
  },
  "language_info": {
   "codemirror_mode": {
    "name": "ipython",
    "version": 3
   },
   "file_extension": ".py",
   "mimetype": "text/x-python",
   "name": "python",
   "nbconvert_exporter": "python",
   "pygments_lexer": "ipython3",
   "version": "3.7.6"
  }
 },
 "nbformat": 4,
 "nbformat_minor": 2
}
