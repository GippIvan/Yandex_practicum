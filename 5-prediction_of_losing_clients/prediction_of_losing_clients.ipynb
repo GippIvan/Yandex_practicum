{
 "cells": [
  {
   "cell_type": "markdown",
   "metadata": {},
   "source": [
    "# Отток клиентов"
   ]
  },
  {
   "cell_type": "markdown",
   "metadata": {},
   "source": [
    "\n",
    "\n",
    "Нужно спрогнозировать, уйдёт клиент из банка в ближайшее время или нет. Вам предоставлены исторические данные о поведении клиентов и расторжении договоров с банком. \n",
    "\n",
    "\n",
    "\n",
    "Источник данных: [https://www.kaggle.com/barelydedicated/bank-customer-churn-modeling](https://www.kaggle.com/barelydedicated/bank-customer-churn-modeling)"
   ]
  },
  {
   "cell_type": "markdown",
   "metadata": {},
   "source": [
    "# 1. Подготовка данных"
   ]
  },
  {
   "cell_type": "code",
   "execution_count": 55,
   "metadata": {},
   "outputs": [],
   "source": [
    "import pandas as pd\n",
    "import numpy as np\n",
    "import matplotlib.pyplot as plt\n",
    "from sklearn.model_selection import train_test_split\n",
    "from sklearn.preprocessing import OrdinalEncoder\n",
    "from sklearn.preprocessing import StandardScaler\n",
    "from sklearn.tree import DecisionTreeClassifier\n",
    "from sklearn.ensemble import RandomForestClassifier\n",
    "from sklearn.metrics import accuracy_score\n",
    "from sklearn.metrics import confusion_matrix\n",
    "from sklearn.metrics import recall_score\n",
    "from sklearn.metrics import precision_score\n",
    "from sklearn.metrics import f1_score\n",
    "from sklearn.utils import shuffle\n",
    "import warnings\n",
    "warnings.filterwarnings(\"ignore\")\n",
    "from sklearn.linear_model import LogisticRegression\n",
    "from sklearn.metrics import roc_auc_score\n",
    "from sklearn.metrics import roc_curve"
   ]
  },
  {
   "cell_type": "code",
   "execution_count": 56,
   "metadata": {},
   "outputs": [
    {
     "data": {
      "text/html": [
       "<div>\n",
       "<style scoped>\n",
       "    .dataframe tbody tr th:only-of-type {\n",
       "        vertical-align: middle;\n",
       "    }\n",
       "\n",
       "    .dataframe tbody tr th {\n",
       "        vertical-align: top;\n",
       "    }\n",
       "\n",
       "    .dataframe thead th {\n",
       "        text-align: right;\n",
       "    }\n",
       "</style>\n",
       "<table border=\"1\" class=\"dataframe\">\n",
       "  <thead>\n",
       "    <tr style=\"text-align: right;\">\n",
       "      <th></th>\n",
       "      <th>RowNumber</th>\n",
       "      <th>CustomerId</th>\n",
       "      <th>Surname</th>\n",
       "      <th>CreditScore</th>\n",
       "      <th>Geography</th>\n",
       "      <th>Gender</th>\n",
       "      <th>Age</th>\n",
       "      <th>Tenure</th>\n",
       "      <th>Balance</th>\n",
       "      <th>NumOfProducts</th>\n",
       "      <th>HasCrCard</th>\n",
       "      <th>IsActiveMember</th>\n",
       "      <th>EstimatedSalary</th>\n",
       "      <th>Exited</th>\n",
       "    </tr>\n",
       "  </thead>\n",
       "  <tbody>\n",
       "    <tr>\n",
       "      <td>0</td>\n",
       "      <td>1</td>\n",
       "      <td>15634602</td>\n",
       "      <td>Hargrave</td>\n",
       "      <td>619</td>\n",
       "      <td>France</td>\n",
       "      <td>Female</td>\n",
       "      <td>42</td>\n",
       "      <td>2.0</td>\n",
       "      <td>0.00</td>\n",
       "      <td>1</td>\n",
       "      <td>1</td>\n",
       "      <td>1</td>\n",
       "      <td>101348.88</td>\n",
       "      <td>1</td>\n",
       "    </tr>\n",
       "    <tr>\n",
       "      <td>1</td>\n",
       "      <td>2</td>\n",
       "      <td>15647311</td>\n",
       "      <td>Hill</td>\n",
       "      <td>608</td>\n",
       "      <td>Spain</td>\n",
       "      <td>Female</td>\n",
       "      <td>41</td>\n",
       "      <td>1.0</td>\n",
       "      <td>83807.86</td>\n",
       "      <td>1</td>\n",
       "      <td>0</td>\n",
       "      <td>1</td>\n",
       "      <td>112542.58</td>\n",
       "      <td>0</td>\n",
       "    </tr>\n",
       "    <tr>\n",
       "      <td>2</td>\n",
       "      <td>3</td>\n",
       "      <td>15619304</td>\n",
       "      <td>Onio</td>\n",
       "      <td>502</td>\n",
       "      <td>France</td>\n",
       "      <td>Female</td>\n",
       "      <td>42</td>\n",
       "      <td>8.0</td>\n",
       "      <td>159660.80</td>\n",
       "      <td>3</td>\n",
       "      <td>1</td>\n",
       "      <td>0</td>\n",
       "      <td>113931.57</td>\n",
       "      <td>1</td>\n",
       "    </tr>\n",
       "    <tr>\n",
       "      <td>3</td>\n",
       "      <td>4</td>\n",
       "      <td>15701354</td>\n",
       "      <td>Boni</td>\n",
       "      <td>699</td>\n",
       "      <td>France</td>\n",
       "      <td>Female</td>\n",
       "      <td>39</td>\n",
       "      <td>1.0</td>\n",
       "      <td>0.00</td>\n",
       "      <td>2</td>\n",
       "      <td>0</td>\n",
       "      <td>0</td>\n",
       "      <td>93826.63</td>\n",
       "      <td>0</td>\n",
       "    </tr>\n",
       "    <tr>\n",
       "      <td>4</td>\n",
       "      <td>5</td>\n",
       "      <td>15737888</td>\n",
       "      <td>Mitchell</td>\n",
       "      <td>850</td>\n",
       "      <td>Spain</td>\n",
       "      <td>Female</td>\n",
       "      <td>43</td>\n",
       "      <td>2.0</td>\n",
       "      <td>125510.82</td>\n",
       "      <td>1</td>\n",
       "      <td>1</td>\n",
       "      <td>1</td>\n",
       "      <td>79084.10</td>\n",
       "      <td>0</td>\n",
       "    </tr>\n",
       "    <tr>\n",
       "      <td>5</td>\n",
       "      <td>6</td>\n",
       "      <td>15574012</td>\n",
       "      <td>Chu</td>\n",
       "      <td>645</td>\n",
       "      <td>Spain</td>\n",
       "      <td>Male</td>\n",
       "      <td>44</td>\n",
       "      <td>8.0</td>\n",
       "      <td>113755.78</td>\n",
       "      <td>2</td>\n",
       "      <td>1</td>\n",
       "      <td>0</td>\n",
       "      <td>149756.71</td>\n",
       "      <td>1</td>\n",
       "    </tr>\n",
       "    <tr>\n",
       "      <td>6</td>\n",
       "      <td>7</td>\n",
       "      <td>15592531</td>\n",
       "      <td>Bartlett</td>\n",
       "      <td>822</td>\n",
       "      <td>France</td>\n",
       "      <td>Male</td>\n",
       "      <td>50</td>\n",
       "      <td>7.0</td>\n",
       "      <td>0.00</td>\n",
       "      <td>2</td>\n",
       "      <td>1</td>\n",
       "      <td>1</td>\n",
       "      <td>10062.80</td>\n",
       "      <td>0</td>\n",
       "    </tr>\n",
       "    <tr>\n",
       "      <td>7</td>\n",
       "      <td>8</td>\n",
       "      <td>15656148</td>\n",
       "      <td>Obinna</td>\n",
       "      <td>376</td>\n",
       "      <td>Germany</td>\n",
       "      <td>Female</td>\n",
       "      <td>29</td>\n",
       "      <td>4.0</td>\n",
       "      <td>115046.74</td>\n",
       "      <td>4</td>\n",
       "      <td>1</td>\n",
       "      <td>0</td>\n",
       "      <td>119346.88</td>\n",
       "      <td>1</td>\n",
       "    </tr>\n",
       "    <tr>\n",
       "      <td>8</td>\n",
       "      <td>9</td>\n",
       "      <td>15792365</td>\n",
       "      <td>He</td>\n",
       "      <td>501</td>\n",
       "      <td>France</td>\n",
       "      <td>Male</td>\n",
       "      <td>44</td>\n",
       "      <td>4.0</td>\n",
       "      <td>142051.07</td>\n",
       "      <td>2</td>\n",
       "      <td>0</td>\n",
       "      <td>1</td>\n",
       "      <td>74940.50</td>\n",
       "      <td>0</td>\n",
       "    </tr>\n",
       "    <tr>\n",
       "      <td>9</td>\n",
       "      <td>10</td>\n",
       "      <td>15592389</td>\n",
       "      <td>H?</td>\n",
       "      <td>684</td>\n",
       "      <td>France</td>\n",
       "      <td>Male</td>\n",
       "      <td>27</td>\n",
       "      <td>2.0</td>\n",
       "      <td>134603.88</td>\n",
       "      <td>1</td>\n",
       "      <td>1</td>\n",
       "      <td>1</td>\n",
       "      <td>71725.73</td>\n",
       "      <td>0</td>\n",
       "    </tr>\n",
       "  </tbody>\n",
       "</table>\n",
       "</div>"
      ],
      "text/plain": [
       "   RowNumber  CustomerId   Surname  CreditScore Geography  Gender  Age  \\\n",
       "0          1    15634602  Hargrave          619    France  Female   42   \n",
       "1          2    15647311      Hill          608     Spain  Female   41   \n",
       "2          3    15619304      Onio          502    France  Female   42   \n",
       "3          4    15701354      Boni          699    France  Female   39   \n",
       "4          5    15737888  Mitchell          850     Spain  Female   43   \n",
       "5          6    15574012       Chu          645     Spain    Male   44   \n",
       "6          7    15592531  Bartlett          822    France    Male   50   \n",
       "7          8    15656148    Obinna          376   Germany  Female   29   \n",
       "8          9    15792365        He          501    France    Male   44   \n",
       "9         10    15592389        H?          684    France    Male   27   \n",
       "\n",
       "   Tenure    Balance  NumOfProducts  HasCrCard  IsActiveMember  \\\n",
       "0     2.0       0.00              1          1               1   \n",
       "1     1.0   83807.86              1          0               1   \n",
       "2     8.0  159660.80              3          1               0   \n",
       "3     1.0       0.00              2          0               0   \n",
       "4     2.0  125510.82              1          1               1   \n",
       "5     8.0  113755.78              2          1               0   \n",
       "6     7.0       0.00              2          1               1   \n",
       "7     4.0  115046.74              4          1               0   \n",
       "8     4.0  142051.07              2          0               1   \n",
       "9     2.0  134603.88              1          1               1   \n",
       "\n",
       "   EstimatedSalary  Exited  \n",
       "0        101348.88       1  \n",
       "1        112542.58       0  \n",
       "2        113931.57       1  \n",
       "3         93826.63       0  \n",
       "4         79084.10       0  \n",
       "5        149756.71       1  \n",
       "6         10062.80       0  \n",
       "7        119346.88       1  \n",
       "8         74940.50       0  \n",
       "9         71725.73       0  "
      ]
     },
     "execution_count": 56,
     "metadata": {},
     "output_type": "execute_result"
    }
   ],
   "source": [
    "churn = pd.read_csv('/datasets/Churn.csv')\n",
    "churn.head(10)"
   ]
  },
  {
   "cell_type": "code",
   "execution_count": 57,
   "metadata": {},
   "outputs": [
    {
     "name": "stdout",
     "output_type": "stream",
     "text": [
      "<class 'pandas.core.frame.DataFrame'>\n",
      "RangeIndex: 10000 entries, 0 to 9999\n",
      "Data columns (total 14 columns):\n",
      "RowNumber          10000 non-null int64\n",
      "CustomerId         10000 non-null int64\n",
      "Surname            10000 non-null object\n",
      "CreditScore        10000 non-null int64\n",
      "Geography          10000 non-null object\n",
      "Gender             10000 non-null object\n",
      "Age                10000 non-null int64\n",
      "Tenure             9091 non-null float64\n",
      "Balance            10000 non-null float64\n",
      "NumOfProducts      10000 non-null int64\n",
      "HasCrCard          10000 non-null int64\n",
      "IsActiveMember     10000 non-null int64\n",
      "EstimatedSalary    10000 non-null float64\n",
      "Exited             10000 non-null int64\n",
      "dtypes: float64(3), int64(8), object(3)\n",
      "memory usage: 1.1+ MB\n"
     ]
    }
   ],
   "source": [
    "churn.info()"
   ]
  },
  {
   "cell_type": "markdown",
   "metadata": {},
   "source": [
    "Данные как мне кажется пришли ко мне в хорошей обработке, пропуски есть в 1 столбе.\n",
    "\n",
    "На первый взгляд в таблице есть 3 дублирующихся столбца, - номер строки, имя и id клиента. в будущем я оставлю только 1."
   ]
  },
  {
   "cell_type": "code",
   "execution_count": 58,
   "metadata": {},
   "outputs": [
    {
     "data": {
      "text/plain": [
       "0"
      ]
     },
     "execution_count": 58,
     "metadata": {},
     "output_type": "execute_result"
    }
   ],
   "source": [
    "churn.duplicated().sum()"
   ]
  },
  {
   "cell_type": "code",
   "execution_count": 59,
   "metadata": {},
   "outputs": [],
   "source": [
    "churn.isnull().sum()\n",
    "churn = churn.fillna(0)"
   ]
  },
  {
   "cell_type": "code",
   "execution_count": 60,
   "metadata": {},
   "outputs": [
    {
     "data": {
      "text/plain": [
       "RowNumber          0\n",
       "CustomerId         0\n",
       "Surname            0\n",
       "CreditScore        0\n",
       "Geography          0\n",
       "Gender             0\n",
       "Age                0\n",
       "Tenure             0\n",
       "Balance            0\n",
       "NumOfProducts      0\n",
       "HasCrCard          0\n",
       "IsActiveMember     0\n",
       "EstimatedSalary    0\n",
       "Exited             0\n",
       "dtype: int64"
      ]
     },
     "execution_count": 60,
     "metadata": {},
     "output_type": "execute_result"
    }
   ],
   "source": [
    "churn.isnull().sum()"
   ]
  },
  {
   "cell_type": "code",
   "execution_count": 61,
   "metadata": {},
   "outputs": [],
   "source": [
    "churn['Tenure'] = churn['Tenure'].astype('int')"
   ]
  },
  {
   "cell_type": "code",
   "execution_count": 62,
   "metadata": {},
   "outputs": [],
   "source": [
    "churn['Balance'] = churn['Balance'].round()\n",
    "churn['Balance'] = churn['Balance'].astype('int')\n",
    "churn['EstimatedSalary'] = churn['EstimatedSalary'].round()\n",
    "churn['EstimatedSalary'] = churn['EstimatedSalary'].astype('int')"
   ]
  },
  {
   "cell_type": "markdown",
   "metadata": {},
   "source": [
    "Дубликатов я не обнаружил, пропуски в столбце с недвижимостью я заменил на 0, тк скорее всего люди без недвижимости ее просто не указали.\n",
    "\n",
    "Так же я округлил столбцы - баланс и доход и привел все float к int"
   ]
  },
  {
   "cell_type": "code",
   "execution_count": 63,
   "metadata": {},
   "outputs": [
    {
     "data": {
      "text/html": [
       "<div>\n",
       "<style scoped>\n",
       "    .dataframe tbody tr th:only-of-type {\n",
       "        vertical-align: middle;\n",
       "    }\n",
       "\n",
       "    .dataframe tbody tr th {\n",
       "        vertical-align: top;\n",
       "    }\n",
       "\n",
       "    .dataframe thead th {\n",
       "        text-align: right;\n",
       "    }\n",
       "</style>\n",
       "<table border=\"1\" class=\"dataframe\">\n",
       "  <thead>\n",
       "    <tr style=\"text-align: right;\">\n",
       "      <th></th>\n",
       "      <th>RowNumber</th>\n",
       "      <th>CustomerId</th>\n",
       "      <th>Surname</th>\n",
       "      <th>CreditScore</th>\n",
       "      <th>Geography</th>\n",
       "      <th>Gender</th>\n",
       "      <th>Age</th>\n",
       "      <th>Tenure</th>\n",
       "      <th>Balance</th>\n",
       "      <th>NumOfProducts</th>\n",
       "      <th>HasCrCard</th>\n",
       "      <th>IsActiveMember</th>\n",
       "      <th>EstimatedSalary</th>\n",
       "      <th>Exited</th>\n",
       "    </tr>\n",
       "  </thead>\n",
       "  <tbody>\n",
       "    <tr>\n",
       "      <td>0</td>\n",
       "      <td>1</td>\n",
       "      <td>15634602</td>\n",
       "      <td>Hargrave</td>\n",
       "      <td>619</td>\n",
       "      <td>France</td>\n",
       "      <td>Female</td>\n",
       "      <td>42</td>\n",
       "      <td>2</td>\n",
       "      <td>0</td>\n",
       "      <td>1</td>\n",
       "      <td>1</td>\n",
       "      <td>1</td>\n",
       "      <td>101349</td>\n",
       "      <td>1</td>\n",
       "    </tr>\n",
       "    <tr>\n",
       "      <td>1</td>\n",
       "      <td>2</td>\n",
       "      <td>15647311</td>\n",
       "      <td>Hill</td>\n",
       "      <td>608</td>\n",
       "      <td>Spain</td>\n",
       "      <td>Female</td>\n",
       "      <td>41</td>\n",
       "      <td>1</td>\n",
       "      <td>83808</td>\n",
       "      <td>1</td>\n",
       "      <td>0</td>\n",
       "      <td>1</td>\n",
       "      <td>112543</td>\n",
       "      <td>0</td>\n",
       "    </tr>\n",
       "    <tr>\n",
       "      <td>2</td>\n",
       "      <td>3</td>\n",
       "      <td>15619304</td>\n",
       "      <td>Onio</td>\n",
       "      <td>502</td>\n",
       "      <td>France</td>\n",
       "      <td>Female</td>\n",
       "      <td>42</td>\n",
       "      <td>8</td>\n",
       "      <td>159661</td>\n",
       "      <td>3</td>\n",
       "      <td>1</td>\n",
       "      <td>0</td>\n",
       "      <td>113932</td>\n",
       "      <td>1</td>\n",
       "    </tr>\n",
       "    <tr>\n",
       "      <td>3</td>\n",
       "      <td>4</td>\n",
       "      <td>15701354</td>\n",
       "      <td>Boni</td>\n",
       "      <td>699</td>\n",
       "      <td>France</td>\n",
       "      <td>Female</td>\n",
       "      <td>39</td>\n",
       "      <td>1</td>\n",
       "      <td>0</td>\n",
       "      <td>2</td>\n",
       "      <td>0</td>\n",
       "      <td>0</td>\n",
       "      <td>93827</td>\n",
       "      <td>0</td>\n",
       "    </tr>\n",
       "    <tr>\n",
       "      <td>4</td>\n",
       "      <td>5</td>\n",
       "      <td>15737888</td>\n",
       "      <td>Mitchell</td>\n",
       "      <td>850</td>\n",
       "      <td>Spain</td>\n",
       "      <td>Female</td>\n",
       "      <td>43</td>\n",
       "      <td>2</td>\n",
       "      <td>125511</td>\n",
       "      <td>1</td>\n",
       "      <td>1</td>\n",
       "      <td>1</td>\n",
       "      <td>79084</td>\n",
       "      <td>0</td>\n",
       "    </tr>\n",
       "    <tr>\n",
       "      <td>5</td>\n",
       "      <td>6</td>\n",
       "      <td>15574012</td>\n",
       "      <td>Chu</td>\n",
       "      <td>645</td>\n",
       "      <td>Spain</td>\n",
       "      <td>Male</td>\n",
       "      <td>44</td>\n",
       "      <td>8</td>\n",
       "      <td>113756</td>\n",
       "      <td>2</td>\n",
       "      <td>1</td>\n",
       "      <td>0</td>\n",
       "      <td>149757</td>\n",
       "      <td>1</td>\n",
       "    </tr>\n",
       "    <tr>\n",
       "      <td>6</td>\n",
       "      <td>7</td>\n",
       "      <td>15592531</td>\n",
       "      <td>Bartlett</td>\n",
       "      <td>822</td>\n",
       "      <td>France</td>\n",
       "      <td>Male</td>\n",
       "      <td>50</td>\n",
       "      <td>7</td>\n",
       "      <td>0</td>\n",
       "      <td>2</td>\n",
       "      <td>1</td>\n",
       "      <td>1</td>\n",
       "      <td>10063</td>\n",
       "      <td>0</td>\n",
       "    </tr>\n",
       "    <tr>\n",
       "      <td>7</td>\n",
       "      <td>8</td>\n",
       "      <td>15656148</td>\n",
       "      <td>Obinna</td>\n",
       "      <td>376</td>\n",
       "      <td>Germany</td>\n",
       "      <td>Female</td>\n",
       "      <td>29</td>\n",
       "      <td>4</td>\n",
       "      <td>115047</td>\n",
       "      <td>4</td>\n",
       "      <td>1</td>\n",
       "      <td>0</td>\n",
       "      <td>119347</td>\n",
       "      <td>1</td>\n",
       "    </tr>\n",
       "    <tr>\n",
       "      <td>8</td>\n",
       "      <td>9</td>\n",
       "      <td>15792365</td>\n",
       "      <td>He</td>\n",
       "      <td>501</td>\n",
       "      <td>France</td>\n",
       "      <td>Male</td>\n",
       "      <td>44</td>\n",
       "      <td>4</td>\n",
       "      <td>142051</td>\n",
       "      <td>2</td>\n",
       "      <td>0</td>\n",
       "      <td>1</td>\n",
       "      <td>74940</td>\n",
       "      <td>0</td>\n",
       "    </tr>\n",
       "    <tr>\n",
       "      <td>9</td>\n",
       "      <td>10</td>\n",
       "      <td>15592389</td>\n",
       "      <td>H?</td>\n",
       "      <td>684</td>\n",
       "      <td>France</td>\n",
       "      <td>Male</td>\n",
       "      <td>27</td>\n",
       "      <td>2</td>\n",
       "      <td>134604</td>\n",
       "      <td>1</td>\n",
       "      <td>1</td>\n",
       "      <td>1</td>\n",
       "      <td>71726</td>\n",
       "      <td>0</td>\n",
       "    </tr>\n",
       "  </tbody>\n",
       "</table>\n",
       "</div>"
      ],
      "text/plain": [
       "   RowNumber  CustomerId   Surname  CreditScore Geography  Gender  Age  \\\n",
       "0          1    15634602  Hargrave          619    France  Female   42   \n",
       "1          2    15647311      Hill          608     Spain  Female   41   \n",
       "2          3    15619304      Onio          502    France  Female   42   \n",
       "3          4    15701354      Boni          699    France  Female   39   \n",
       "4          5    15737888  Mitchell          850     Spain  Female   43   \n",
       "5          6    15574012       Chu          645     Spain    Male   44   \n",
       "6          7    15592531  Bartlett          822    France    Male   50   \n",
       "7          8    15656148    Obinna          376   Germany  Female   29   \n",
       "8          9    15792365        He          501    France    Male   44   \n",
       "9         10    15592389        H?          684    France    Male   27   \n",
       "\n",
       "   Tenure  Balance  NumOfProducts  HasCrCard  IsActiveMember  EstimatedSalary  \\\n",
       "0       2        0              1          1               1           101349   \n",
       "1       1    83808              1          0               1           112543   \n",
       "2       8   159661              3          1               0           113932   \n",
       "3       1        0              2          0               0            93827   \n",
       "4       2   125511              1          1               1            79084   \n",
       "5       8   113756              2          1               0           149757   \n",
       "6       7        0              2          1               1            10063   \n",
       "7       4   115047              4          1               0           119347   \n",
       "8       4   142051              2          0               1            74940   \n",
       "9       2   134604              1          1               1            71726   \n",
       "\n",
       "   Exited  \n",
       "0       1  \n",
       "1       0  \n",
       "2       1  \n",
       "3       0  \n",
       "4       0  \n",
       "5       1  \n",
       "6       0  \n",
       "7       1  \n",
       "8       0  \n",
       "9       0  "
      ]
     },
     "execution_count": 63,
     "metadata": {},
     "output_type": "execute_result"
    }
   ],
   "source": [
    "churn.head(10)"
   ]
  },
  {
   "cell_type": "code",
   "execution_count": 64,
   "metadata": {},
   "outputs": [
    {
     "name": "stdout",
     "output_type": "stream",
     "text": [
      "7963 2037\n"
     ]
    }
   ],
   "source": [
    "target_0 = churn[churn['Exited'] == 0]['Exited'].count()\n",
    "target_1 = churn[churn['Exited']== 1]['Exited'].count()\n",
    "print(target_0,target_1)"
   ]
  },
  {
   "cell_type": "code",
   "execution_count": 65,
   "metadata": {},
   "outputs": [
    {
     "name": "stderr",
     "output_type": "stream",
     "text": [
      "No handles with labels found to put in legend.\n"
     ]
    },
    {
     "data": {
      "text/plain": [
       "<matplotlib.legend.Legend at 0x7f56ceed58d0>"
      ]
     },
     "execution_count": 65,
     "metadata": {},
     "output_type": "execute_result"
    },
    {
     "data": {
      "image/png": "[encoded data removed]",
      "text/plain": [
       "<Figure size 432x288 with 1 Axes>"
      ]
     },
     "metadata": {
      "needs_background": "light"
     },
     "output_type": "display_data"
    }
   ],
   "source": [
    "%matplotlib inline\n",
    "labels = [0,1]\n",
    "plt.bar(labels[0],target_0, width=0.1,color = 'red')\n",
    "plt.bar(labels[1],target_1,width=0.1,color = 'green')\n",
    "plt.legend()"
   ]
  },
  {
   "cell_type": "markdown",
   "metadata": {},
   "source": [
    "Я посчитал и построил график клиентов которые перестали быть клиентами банка (зеленые) и нет (красные). В будущем мне эти цифры пригодятся при увеличении и уменьшении выборки"
   ]
  },
  {
   "cell_type": "code",
   "execution_count": 66,
   "metadata": {},
   "outputs": [
    {
     "data": {
      "text/html": [
       "<div>\n",
       "<style scoped>\n",
       "    .dataframe tbody tr th:only-of-type {\n",
       "        vertical-align: middle;\n",
       "    }\n",
       "\n",
       "    .dataframe tbody tr th {\n",
       "        vertical-align: top;\n",
       "    }\n",
       "\n",
       "    .dataframe thead th {\n",
       "        text-align: right;\n",
       "    }\n",
       "</style>\n",
       "<table border=\"1\" class=\"dataframe\">\n",
       "  <thead>\n",
       "    <tr style=\"text-align: right;\">\n",
       "      <th></th>\n",
       "      <th>RowNumber</th>\n",
       "      <th>CreditScore</th>\n",
       "      <th>Age</th>\n",
       "      <th>Tenure</th>\n",
       "      <th>Balance</th>\n",
       "      <th>NumOfProducts</th>\n",
       "      <th>HasCrCard</th>\n",
       "      <th>IsActiveMember</th>\n",
       "      <th>EstimatedSalary</th>\n",
       "      <th>Exited</th>\n",
       "      <th>Geography_Germany</th>\n",
       "      <th>Geography_Spain</th>\n",
       "      <th>Gender_Male</th>\n",
       "    </tr>\n",
       "  </thead>\n",
       "  <tbody>\n",
       "    <tr>\n",
       "      <td>0</td>\n",
       "      <td>1</td>\n",
       "      <td>619</td>\n",
       "      <td>42</td>\n",
       "      <td>2</td>\n",
       "      <td>0</td>\n",
       "      <td>1</td>\n",
       "      <td>1</td>\n",
       "      <td>1</td>\n",
       "      <td>101349</td>\n",
       "      <td>1</td>\n",
       "      <td>0</td>\n",
       "      <td>0</td>\n",
       "      <td>0</td>\n",
       "    </tr>\n",
       "    <tr>\n",
       "      <td>1</td>\n",
       "      <td>2</td>\n",
       "      <td>608</td>\n",
       "      <td>41</td>\n",
       "      <td>1</td>\n",
       "      <td>83808</td>\n",
       "      <td>1</td>\n",
       "      <td>0</td>\n",
       "      <td>1</td>\n",
       "      <td>112543</td>\n",
       "      <td>0</td>\n",
       "      <td>0</td>\n",
       "      <td>1</td>\n",
       "      <td>0</td>\n",
       "    </tr>\n",
       "    <tr>\n",
       "      <td>2</td>\n",
       "      <td>3</td>\n",
       "      <td>502</td>\n",
       "      <td>42</td>\n",
       "      <td>8</td>\n",
       "      <td>159661</td>\n",
       "      <td>3</td>\n",
       "      <td>1</td>\n",
       "      <td>0</td>\n",
       "      <td>113932</td>\n",
       "      <td>1</td>\n",
       "      <td>0</td>\n",
       "      <td>0</td>\n",
       "      <td>0</td>\n",
       "    </tr>\n",
       "    <tr>\n",
       "      <td>3</td>\n",
       "      <td>4</td>\n",
       "      <td>699</td>\n",
       "      <td>39</td>\n",
       "      <td>1</td>\n",
       "      <td>0</td>\n",
       "      <td>2</td>\n",
       "      <td>0</td>\n",
       "      <td>0</td>\n",
       "      <td>93827</td>\n",
       "      <td>0</td>\n",
       "      <td>0</td>\n",
       "      <td>0</td>\n",
       "      <td>0</td>\n",
       "    </tr>\n",
       "    <tr>\n",
       "      <td>4</td>\n",
       "      <td>5</td>\n",
       "      <td>850</td>\n",
       "      <td>43</td>\n",
       "      <td>2</td>\n",
       "      <td>125511</td>\n",
       "      <td>1</td>\n",
       "      <td>1</td>\n",
       "      <td>1</td>\n",
       "      <td>79084</td>\n",
       "      <td>0</td>\n",
       "      <td>0</td>\n",
       "      <td>1</td>\n",
       "      <td>0</td>\n",
       "    </tr>\n",
       "    <tr>\n",
       "      <td>5</td>\n",
       "      <td>6</td>\n",
       "      <td>645</td>\n",
       "      <td>44</td>\n",
       "      <td>8</td>\n",
       "      <td>113756</td>\n",
       "      <td>2</td>\n",
       "      <td>1</td>\n",
       "      <td>0</td>\n",
       "      <td>149757</td>\n",
       "      <td>1</td>\n",
       "      <td>0</td>\n",
       "      <td>1</td>\n",
       "      <td>1</td>\n",
       "    </tr>\n",
       "    <tr>\n",
       "      <td>6</td>\n",
       "      <td>7</td>\n",
       "      <td>822</td>\n",
       "      <td>50</td>\n",
       "      <td>7</td>\n",
       "      <td>0</td>\n",
       "      <td>2</td>\n",
       "      <td>1</td>\n",
       "      <td>1</td>\n",
       "      <td>10063</td>\n",
       "      <td>0</td>\n",
       "      <td>0</td>\n",
       "      <td>0</td>\n",
       "      <td>1</td>\n",
       "    </tr>\n",
       "    <tr>\n",
       "      <td>7</td>\n",
       "      <td>8</td>\n",
       "      <td>376</td>\n",
       "      <td>29</td>\n",
       "      <td>4</td>\n",
       "      <td>115047</td>\n",
       "      <td>4</td>\n",
       "      <td>1</td>\n",
       "      <td>0</td>\n",
       "      <td>119347</td>\n",
       "      <td>1</td>\n",
       "      <td>1</td>\n",
       "      <td>0</td>\n",
       "      <td>0</td>\n",
       "    </tr>\n",
       "    <tr>\n",
       "      <td>8</td>\n",
       "      <td>9</td>\n",
       "      <td>501</td>\n",
       "      <td>44</td>\n",
       "      <td>4</td>\n",
       "      <td>142051</td>\n",
       "      <td>2</td>\n",
       "      <td>0</td>\n",
       "      <td>1</td>\n",
       "      <td>74940</td>\n",
       "      <td>0</td>\n",
       "      <td>0</td>\n",
       "      <td>0</td>\n",
       "      <td>1</td>\n",
       "    </tr>\n",
       "    <tr>\n",
       "      <td>9</td>\n",
       "      <td>10</td>\n",
       "      <td>684</td>\n",
       "      <td>27</td>\n",
       "      <td>2</td>\n",
       "      <td>134604</td>\n",
       "      <td>1</td>\n",
       "      <td>1</td>\n",
       "      <td>1</td>\n",
       "      <td>71726</td>\n",
       "      <td>0</td>\n",
       "      <td>0</td>\n",
       "      <td>0</td>\n",
       "      <td>1</td>\n",
       "    </tr>\n",
       "  </tbody>\n",
       "</table>\n",
       "</div>"
      ],
      "text/plain": [
       "   RowNumber  CreditScore  Age  Tenure  Balance  NumOfProducts  HasCrCard  \\\n",
       "0          1          619   42       2        0              1          1   \n",
       "1          2          608   41       1    83808              1          0   \n",
       "2          3          502   42       8   159661              3          1   \n",
       "3          4          699   39       1        0              2          0   \n",
       "4          5          850   43       2   125511              1          1   \n",
       "5          6          645   44       8   113756              2          1   \n",
       "6          7          822   50       7        0              2          1   \n",
       "7          8          376   29       4   115047              4          1   \n",
       "8          9          501   44       4   142051              2          0   \n",
       "9         10          684   27       2   134604              1          1   \n",
       "\n",
       "   IsActiveMember  EstimatedSalary  Exited  Geography_Germany  \\\n",
       "0               1           101349       1                  0   \n",
       "1               1           112543       0                  0   \n",
       "2               0           113932       1                  0   \n",
       "3               0            93827       0                  0   \n",
       "4               1            79084       0                  0   \n",
       "5               0           149757       1                  0   \n",
       "6               1            10063       0                  0   \n",
       "7               0           119347       1                  1   \n",
       "8               1            74940       0                  0   \n",
       "9               1            71726       0                  0   \n",
       "\n",
       "   Geography_Spain  Gender_Male  \n",
       "0                0            0  \n",
       "1                1            0  \n",
       "2                0            0  \n",
       "3                0            0  \n",
       "4                1            0  \n",
       "5                1            1  \n",
       "6                0            1  \n",
       "7                0            0  \n",
       "8                0            1  \n",
       "9                0            1  "
      ]
     },
     "execution_count": 66,
     "metadata": {},
     "output_type": "execute_result"
    }
   ],
   "source": [
    "churn = churn.drop(['Surname', 'CustomerId'], axis = 1)\n",
    "churn_ohe = pd.get_dummies(churn, drop_first=True)\n",
    "churn_ohe.head(10)"
   ]
  },
  {
   "cell_type": "markdown",
   "metadata": {},
   "source": [
    "используя One-Hot Encoding я перекодировал таблицу что бы избавится от не численных переменных. при этом я удалил первый столбец для не попадания в дамми ловушку"
   ]
  },
  {
   "cell_type": "code",
   "execution_count": 67,
   "metadata": {},
   "outputs": [],
   "source": [
    "target = churn_ohe['Exited']\n",
    "features = churn_ohe.drop(['Exited'], axis = 1)"
   ]
  },
  {
   "cell_type": "markdown",
   "metadata": {},
   "source": [
    "Назначил целевой признак и фитчи"
   ]
  },
  {
   "cell_type": "code",
   "execution_count": 68,
   "metadata": {},
   "outputs": [],
   "source": [
    "features_train_0, features_valid, target_train_0, target_valid = train_test_split(\n",
    "    features, target, test_size = 0.13, random_state = 12345)\n",
    "features_train, features_test, target_train, target_test = train_test_split(features_train_0, target_train_0, test_size = 0.15, random_state = 12345)\n"
   ]
  },
  {
   "cell_type": "code",
   "execution_count": 69,
   "metadata": {},
   "outputs": [
    {
     "name": "stdout",
     "output_type": "stream",
     "text": [
      "Обучающие признаки (7395, 12)\n",
      "валидационные признаки (1300, 12)\n",
      "Тестовые признаки (1305, 12)\n"
     ]
    }
   ],
   "source": [
    "print('Обучающие признаки', features_train.shape)\n",
    "print('валидационные признаки', features_valid.shape)\n",
    "print('Тестовые признаки', features_test.shape)\n",
    "\n",
    "\n"
   ]
  },
  {
   "cell_type": "markdown",
   "metadata": {},
   "source": [
    "разбил выборку на тренировочную (74%) и валидационную и тестовую по (13%)"
   ]
  },
  {
   "cell_type": "code",
   "execution_count": 70,
   "metadata": {},
   "outputs": [],
   "source": [
    "numeric = ['CreditScore', 'Age', 'Tenure', 'Balance', 'EstimatedSalary']\n",
    "scaler = StandardScaler()\n",
    "scaler.fit(features_train[numeric])\n",
    "features_train[numeric] = scaler.transform(features_train[numeric])\n",
    "features_valid[numeric] = scaler.transform(features_valid[numeric])\n",
    "features_test[numeric] = scaler.transform(features_test[numeric])\n"
   ]
  },
  {
   "cell_type": "markdown",
   "metadata": {},
   "source": [
    "использую standartscaler я маштабировал численные признаки"
   ]
  },
  {
   "cell_type": "markdown",
   "metadata": {},
   "source": [
    "# 2. Исследование задачи"
   ]
  },
  {
   "cell_type": "markdown",
   "metadata": {},
   "source": [
    "#### дерево решений"
   ]
  },
  {
   "cell_type": "code",
   "execution_count": 71,
   "metadata": {},
   "outputs": [
    {
     "name": "stdout",
     "output_type": "stream",
     "text": [
      "Accuracy сырых данных: 0.7953846153846154\n"
     ]
    }
   ],
   "source": [
    "model = DecisionTreeClassifier()\n",
    "model.fit(features_train, target_train)\n",
    "predicted_valid = model.predict(features_valid)\n",
    "print('Accuracy сырых данных:', accuracy_score(target_valid, predicted_valid))"
   ]
  },
  {
   "cell_type": "code",
   "execution_count": 72,
   "metadata": {},
   "outputs": [
    {
     "name": "stdout",
     "output_type": "stream",
     "text": [
      "0.7876923076923077\n"
     ]
    }
   ],
   "source": [
    "target_pred_constant = pd.Series(0, index=target_valid.index)\n",
    "print(accuracy_score(target_valid, target_pred_constant))"
   ]
  },
  {
   "cell_type": "code",
   "execution_count": 73,
   "metadata": {},
   "outputs": [
    {
     "name": "stdout",
     "output_type": "stream",
     "text": [
      "[[905 119]\n",
      " [147 129]]\n"
     ]
    }
   ],
   "source": [
    "print(confusion_matrix(target_valid, predicted_valid))"
   ]
  },
  {
   "cell_type": "code",
   "execution_count": 74,
   "metadata": {},
   "outputs": [
    {
     "name": "stdout",
     "output_type": "stream",
     "text": [
      "0.4673913043478261\n"
     ]
    }
   ],
   "source": [
    "print(recall_score(target_valid, predicted_valid))"
   ]
  },
  {
   "cell_type": "code",
   "execution_count": 75,
   "metadata": {},
   "outputs": [
    {
     "name": "stdout",
     "output_type": "stream",
     "text": [
      "0.5201612903225806\n"
     ]
    }
   ],
   "source": [
    "print(precision_score(target_valid, predicted_valid))"
   ]
  },
  {
   "cell_type": "code",
   "execution_count": 76,
   "metadata": {},
   "outputs": [
    {
     "name": "stdout",
     "output_type": "stream",
     "text": [
      "0.4923664122137405\n"
     ]
    }
   ],
   "source": [
    "print(f1_score(target_valid, predicted_valid))"
   ]
  },
  {
   "cell_type": "markdown",
   "metadata": {},
   "source": [
    "#### случайный лес"
   ]
  },
  {
   "cell_type": "code",
   "execution_count": 77,
   "metadata": {},
   "outputs": [
    {
     "name": "stdout",
     "output_type": "stream",
     "text": [
      "Accuracy сырых данных леса: 0.8446153846153847\n"
     ]
    }
   ],
   "source": [
    "model1 = RandomForestClassifier()\n",
    "model1.fit(features_train, target_train)\n",
    "predicted_valid1 = model1.predict(features_valid)\n",
    "print('Accuracy сырых данных леса:', accuracy_score(target_valid, predicted_valid1))"
   ]
  },
  {
   "cell_type": "code",
   "execution_count": 78,
   "metadata": {},
   "outputs": [
    {
     "name": "stdout",
     "output_type": "stream",
     "text": [
      "[[992  32]\n",
      " [170 106]]\n"
     ]
    }
   ],
   "source": [
    "print(confusion_matrix(target_valid, predicted_valid1))"
   ]
  },
  {
   "cell_type": "code",
   "execution_count": 79,
   "metadata": {},
   "outputs": [
    {
     "name": "stdout",
     "output_type": "stream",
     "text": [
      "0.38405797101449274\n"
     ]
    }
   ],
   "source": [
    "print(recall_score(target_valid, predicted_valid1))"
   ]
  },
  {
   "cell_type": "code",
   "execution_count": 80,
   "metadata": {},
   "outputs": [
    {
     "name": "stdout",
     "output_type": "stream",
     "text": [
      "0.7681159420289855\n"
     ]
    }
   ],
   "source": [
    "print(precision_score(target_valid, predicted_valid1))"
   ]
  },
  {
   "cell_type": "code",
   "execution_count": 81,
   "metadata": {},
   "outputs": [
    {
     "name": "stdout",
     "output_type": "stream",
     "text": [
      "0.5120772946859903\n"
     ]
    }
   ],
   "source": [
    "print(f1_score(target_valid, predicted_valid1))"
   ]
  },
  {
   "cell_type": "markdown",
   "metadata": {},
   "source": [
    "#### логистическая регрессия"
   ]
  },
  {
   "cell_type": "code",
   "execution_count": 82,
   "metadata": {},
   "outputs": [
    {
     "name": "stdout",
     "output_type": "stream",
     "text": [
      "Accuracy сырых данных регрессии: 0.8061538461538461\n"
     ]
    }
   ],
   "source": [
    "model2 = LogisticRegression()\n",
    "model2.fit(features_train, target_train)\n",
    "predicted_valid2 = model2.predict(features_valid)\n",
    "print('Accuracy сырых данных регрессии:', accuracy_score(target_valid, predicted_valid2))"
   ]
  },
  {
   "cell_type": "code",
   "execution_count": 83,
   "metadata": {},
   "outputs": [
    {
     "name": "stdout",
     "output_type": "stream",
     "text": [
      "[[997  27]\n",
      " [225  51]]\n"
     ]
    }
   ],
   "source": [
    "print(confusion_matrix(target_valid, predicted_valid2))"
   ]
  },
  {
   "cell_type": "code",
   "execution_count": 84,
   "metadata": {},
   "outputs": [
    {
     "name": "stdout",
     "output_type": "stream",
     "text": [
      "0.18478260869565216\n"
     ]
    }
   ],
   "source": [
    "print(recall_score(target_valid, predicted_valid2))"
   ]
  },
  {
   "cell_type": "code",
   "execution_count": 85,
   "metadata": {},
   "outputs": [
    {
     "name": "stdout",
     "output_type": "stream",
     "text": [
      "0.6538461538461539\n"
     ]
    }
   ],
   "source": [
    "print(precision_score(target_valid, predicted_valid2))"
   ]
  },
  {
   "cell_type": "code",
   "execution_count": 86,
   "metadata": {},
   "outputs": [
    {
     "name": "stdout",
     "output_type": "stream",
     "text": [
      "0.28813559322033894\n"
     ]
    }
   ],
   "source": [
    "print(f1_score(target_valid, predicted_valid2))"
   ]
  },
  {
   "cell_type": "markdown",
   "metadata": {},
   "source": [
    "Я проверил 3 модели на сырых данных, дерево решений показало средний результат примерно 0.5 по каждой метрике. Случайный лес показал хороший результат по точности и немного заниженную полноту.\n",
    "\n",
    "Логистическая же регрессия по полносте полностью \"просела\" всего 0.18\n",
    "\n",
    "\n",
    "Исходя из этих данных я уже могу понимать что лучшей моделью будет случайный лес, нужно будет только поднять полноту."
   ]
  },
  {
   "cell_type": "markdown",
   "metadata": {},
   "source": [
    "# 3. Борьба с дисбалансом"
   ]
  },
  {
   "cell_type": "markdown",
   "metadata": {},
   "source": [
    "Для борьбы с дисбалансом исходя из данных выше (отрицательных таргетов примерно 8000 положительных 2000) я увеличу положительную выборку на 2 а отрицательную уменьшу так же на 2, получится соотношение примерно 1:1\n",
    "\n",
    "проверять результат я буду на модели случайного леса, которая показала лучший результат на сырых данных."
   ]
  },
  {
   "cell_type": "code",
   "execution_count": 87,
   "metadata": {},
   "outputs": [],
   "source": [
    "def upsample(features, target, repeat):\n",
    "    features_zeros = features[target == 0]\n",
    "    features_ones = features[target == 1]\n",
    "    target_zeros = target[target == 0]\n",
    "    target_ones = target[target == 1]\n",
    "\n",
    "    features_upsampled = pd.concat([features_zeros] + [features_ones] * repeat)\n",
    "    target_upsampled = pd.concat([target_zeros] + [target_ones] * repeat)\n",
    "    \n",
    "    features_upsampled, target_upsampled = shuffle(\n",
    "        features_upsampled, target_upsampled, random_state=12345)\n",
    "    \n",
    "    return features_upsampled, target_upsampled\n",
    "\n",
    "features_upsampled, target_upsampled = upsample(features_train, target_train, 2)\n",
    "\n"
   ]
  },
  {
   "cell_type": "code",
   "execution_count": 88,
   "metadata": {},
   "outputs": [
    {
     "name": "stdout",
     "output_type": "stream",
     "text": [
      "F1: 0.5248868778280543\n"
     ]
    }
   ],
   "source": [
    "model = RandomForestClassifier()\n",
    "model.fit(features_upsampled, target_upsampled)\n",
    "predicted_valid = model.predict(features_valid)\n",
    "\n",
    "print(\"F1:\", f1_score(target_valid, predicted_valid))"
   ]
  },
  {
   "cell_type": "code",
   "execution_count": 89,
   "metadata": {},
   "outputs": [],
   "source": [
    "def downsample(features, target, fraction):\n",
    "    features_zeros = features[target == 0]\n",
    "    features_ones = features[target == 1]\n",
    "    target_zeros = target[target == 0]\n",
    "    target_ones = target[target == 1]\n",
    "    features_downsampled = pd.concat(\n",
    "        [features_zeros.sample(frac=fraction, random_state=12345)] + [features_ones])\n",
    "    target_downsampled = pd.concat(\n",
    "        [target_zeros.sample(frac=fraction, random_state=12345)] + [target_ones])   \n",
    "    features_downsampled, target_downsampled = shuffle(\n",
    "        features_downsampled, target_downsampled, random_state=12345)\n",
    "    \n",
    "    return features_downsampled, target_downsampled\n",
    "\n",
    "features_downsampled, target_downsampled = downsample(features_upsampled, target_upsampled, 0.5)\n"
   ]
  },
  {
   "cell_type": "code",
   "execution_count": 90,
   "metadata": {},
   "outputs": [
    {
     "name": "stdout",
     "output_type": "stream",
     "text": [
      "F1: 0.5918003565062389\n"
     ]
    }
   ],
   "source": [
    "model = RandomForestClassifier()\n",
    "model.fit(features_downsampled, target_downsampled)\n",
    "predicted_valid = model.predict(features_valid)\n",
    "\n",
    "print(\"F1:\", f1_score(target_valid, predicted_valid))"
   ]
  },
  {
   "cell_type": "markdown",
   "metadata": {},
   "source": [
    "удалось увеличить f1 метрику, но не сильно. посмотрим, может быть при настройке гиперпараметров получится выше."
   ]
  },
  {
   "cell_type": "markdown",
   "metadata": {},
   "source": [
    "# 4. Тестирование модели"
   ]
  },
  {
   "cell_type": "markdown",
   "metadata": {},
   "source": [
    "Проверю 3 модели на тренировочных данных которые я получил при увеличении и уменьшении выборки\n",
    "\n",
    "сначала проверю на валидацонной выборке, после чего на тестевой с лучшими гиперпаратметрами "
   ]
  },
  {
   "cell_type": "code",
   "execution_count": 91,
   "metadata": {},
   "outputs": [
    {
     "name": "stdout",
     "output_type": "stream",
     "text": [
      "F1 при max_depth : 1 - 0.5071633237822349\n",
      "F1 при max_depth : 2 - 0.5376044568245125\n",
      "F1 при max_depth : 3 - 0.5376044568245125\n",
      "F1 при max_depth : 4 - 0.5941558441558441\n",
      "F1 при max_depth : 5 - 0.604724409448819\n",
      "F1 при max_depth : 6 - 0.6058732612055642\n",
      "F1 при max_depth : 7 - 0.5825242718446602\n",
      "F1 при max_depth : 8 - 0.5615615615615617\n",
      "F1 при max_depth : 9 - 0.5566714490674318\n",
      "F1 при max_depth : 10 - 0.5372262773722628\n",
      "F1 при max_depth : 11 - 0.5348101265822786\n",
      "F1 при max_depth : 12 - 0.5358255451713396\n",
      "F1 при max_depth : 13 - 0.541795665634675\n",
      "F1 при max_depth : 14 - 0.540453074433657\n",
      "F1 при max_depth : 15 - 0.5206349206349206\n"
     ]
    }
   ],
   "source": [
    "for i in range(1,16):    \n",
    "    model_tree = DecisionTreeClassifier(random_state = 112325, max_depth = i)\n",
    "    model_tree.fit(features_downsampled, target_downsampled)\n",
    "    predictions_tree = model_tree.predict(features_valid)\n",
    "    f1_tree = f1_score(predictions_tree, target_valid)\n",
    "    print('F1 при max_depth :', i, '-', f1_tree)"
   ]
  },
  {
   "cell_type": "code",
   "execution_count": 92,
   "metadata": {
    "scrolled": false
   },
   "outputs": [
    {
     "name": "stdout",
     "output_type": "stream",
     "text": [
      "F1 при n_estimators : 10 и при max_depth= 1 - 0.551048951048951\n",
      "F1 при n_estimators : 10 и при max_depth= 2 - 0.5579514824797843\n",
      "F1 при n_estimators : 10 и при max_depth= 3 - 0.593939393939394\n",
      "F1 при n_estimators : 10 и при max_depth= 4 - 0.622432859399684\n",
      "F1 при n_estimators : 10 и при max_depth= 5 - 0.6180665610142632\n",
      "F1 при n_estimators : 10 и при max_depth= 6 - 0.6182380216383307\n",
      "F1 при n_estimators : 10 и при max_depth= 7 - 0.6042944785276073\n",
      "F1 при n_estimators : 10 и при max_depth= 8 - 0.5938461538461538\n",
      "F1 при n_estimators : 10 и при max_depth= 9 - 0.6102719033232629\n",
      "F1 при n_estimators : 10 и при max_depth= 10 - 0.6280487804878049\n",
      "F1 при n_estimators : 10 и при max_depth= 11 - 0.6283048211508554\n",
      "F1 при n_estimators : 10 и при max_depth= 12 - 0.5857605177993528\n",
      "F1 при n_estimators : 10 и при max_depth= 13 - 0.6022187004754357\n",
      "F1 при n_estimators : 10 и при max_depth= 14 - 0.5756097560975609\n",
      "F1 при n_estimators : 10 и при max_depth= 15 - 0.5987261146496815\n",
      "F1 при n_estimators : 10 и при max_depth= 16 - 0.5936981757877281\n",
      "F1 при n_estimators : 10 и при max_depth= 17 - 0.5819397993311037\n",
      "F1 при n_estimators : 10 и при max_depth= 18 - 0.6121739130434783\n",
      "F1 при n_estimators : 10 и при max_depth= 19 - 0.6020761245674741\n",
      "F1 при n_estimators : 15 и при max_depth= 1 - 0.5302197802197802\n",
      "F1 при n_estimators : 15 и при max_depth= 2 - 0.5818673883626522\n",
      "F1 при n_estimators : 15 и при max_depth= 3 - 0.5949177877428998\n",
      "F1 при n_estimators : 15 и при max_depth= 4 - 0.6012084592145016\n",
      "F1 при n_estimators : 15 и при max_depth= 5 - 0.6033690658499233\n",
      "F1 при n_estimators : 15 и при max_depth= 6 - 0.6172839506172838\n",
      "F1 при n_estimators : 15 и при max_depth= 7 - 0.6210045662100456\n",
      "F1 при n_estimators : 15 и при max_depth= 8 - 0.6175115207373273\n",
      "F1 при n_estimators : 15 и при max_depth= 9 - 0.6221547799696509\n",
      "F1 при n_estimators : 15 и при max_depth= 10 - 0.628482972136223\n",
      "F1 при n_estimators : 15 и при max_depth= 11 - 0.6312500000000001\n",
      "F1 при n_estimators : 15 и при max_depth= 12 - 0.6067415730337078\n",
      "F1 при n_estimators : 15 и при max_depth= 13 - 0.6226415094339623\n",
      "F1 при n_estimators : 15 и при max_depth= 14 - 0.6071428571428572\n",
      "F1 при n_estimators : 15 и при max_depth= 15 - 0.6245954692556634\n",
      "F1 при n_estimators : 15 и при max_depth= 16 - 0.6174055829228243\n",
      "F1 при n_estimators : 15 и при max_depth= 17 - 0.597972972972973\n",
      "F1 при n_estimators : 15 и при max_depth= 18 - 0.6120401337792643\n",
      "F1 при n_estimators : 15 и при max_depth= 19 - 0.5990016638935108\n",
      "F1 при n_estimators : 20 и при max_depth= 1 - 0.544959128065395\n",
      "F1 при n_estimators : 20 и при max_depth= 2 - 0.5800273597811217\n",
      "F1 при n_estimators : 20 и при max_depth= 3 - 0.5864661654135338\n",
      "F1 при n_estimators : 20 и при max_depth= 4 - 0.5979073243647235\n",
      "F1 при n_estimators : 20 и при max_depth= 5 - 0.5981873111782476\n",
      "F1 при n_estimators : 20 и при max_depth= 6 - 0.6174698795180724\n",
      "F1 при n_estimators : 20 и при max_depth= 7 - 0.6146926536731634\n",
      "F1 при n_estimators : 20 и при max_depth= 8 - 0.6137404580152672\n",
      "F1 при n_estimators : 20 и при max_depth= 9 - 0.6280487804878049\n",
      "F1 при n_estimators : 20 и при max_depth= 10 - 0.6137071651090342\n",
      "F1 при n_estimators : 20 и при max_depth= 11 - 0.6163522012578616\n",
      "F1 при n_estimators : 20 и при max_depth= 12 - 0.6035313001605136\n",
      "F1 при n_estimators : 20 и при max_depth= 13 - 0.6329113924050632\n",
      "F1 при n_estimators : 20 и при max_depth= 14 - 0.6056572379367721\n",
      "F1 при n_estimators : 20 и при max_depth= 15 - 0.6376811594202899\n",
      "F1 при n_estimators : 20 и при max_depth= 16 - 0.5956738768718802\n",
      "F1 при n_estimators : 20 и при max_depth= 17 - 0.5892547660311959\n",
      "F1 при n_estimators : 20 и при max_depth= 18 - 0.6258503401360545\n",
      "F1 при n_estimators : 20 и при max_depth= 19 - 0.5945945945945945\n",
      "F1 при n_estimators : 25 и при max_depth= 1 - 0.5310435931307794\n",
      "F1 при n_estimators : 25 и при max_depth= 2 - 0.5746164574616458\n",
      "F1 при n_estimators : 25 и при max_depth= 3 - 0.5892857142857142\n",
      "F1 при n_estimators : 25 и при max_depth= 4 - 0.6062407132243685\n",
      "F1 при n_estimators : 25 и при max_depth= 5 - 0.5984962406015037\n",
      "F1 при n_estimators : 25 и при max_depth= 6 - 0.6137724550898203\n",
      "F1 при n_estimators : 25 и при max_depth= 7 - 0.6253776435045316\n",
      "F1 при n_estimators : 25 и при max_depth= 8 - 0.6156202143950995\n",
      "F1 при n_estimators : 25 и при max_depth= 9 - 0.6307692307692307\n",
      "F1 при n_estimators : 25 и при max_depth= 10 - 0.6201550387596899\n",
      "F1 при n_estimators : 25 и при max_depth= 11 - 0.6209048361934477\n",
      "F1 при n_estimators : 25 и при max_depth= 12 - 0.6201298701298701\n",
      "F1 при n_estimators : 25 и при max_depth= 13 - 0.6208\n",
      "F1 при n_estimators : 25 и при max_depth= 14 - 0.6209150326797385\n",
      "F1 при n_estimators : 25 и при max_depth= 15 - 0.632952691680261\n",
      "F1 при n_estimators : 25 и при max_depth= 16 - 0.6172006745362563\n",
      "F1 при n_estimators : 25 и при max_depth= 17 - 0.6159052453468697\n",
      "F1 при n_estimators : 25 и при max_depth= 18 - 0.6130653266331658\n",
      "F1 при n_estimators : 25 и при max_depth= 19 - 0.6088379705400981\n",
      "F1 при n_estimators : 30 и при max_depth= 1 - 0.5541490857946554\n",
      "F1 при n_estimators : 30 и при max_depth= 2 - 0.5937961595273265\n",
      "F1 при n_estimators : 30 и при max_depth= 3 - 0.5868263473053892\n",
      "F1 при n_estimators : 30 и при max_depth= 4 - 0.5963855421686747\n",
      "F1 при n_estimators : 30 и при max_depth= 5 - 0.5972850678733032\n",
      "F1 при n_estimators : 30 и при max_depth= 6 - 0.6116207951070337\n",
      "F1 при n_estimators : 30 и при max_depth= 7 - 0.624048706240487\n",
      "F1 при n_estimators : 30 и при max_depth= 8 - 0.6224961479198767\n",
      "F1 при n_estimators : 30 и при max_depth= 9 - 0.633693972179289\n",
      "F1 при n_estimators : 30 и при max_depth= 10 - 0.6299212598425197\n",
      "F1 при n_estimators : 30 и при max_depth= 11 - 0.6246056782334384\n",
      "F1 при n_estimators : 30 и при max_depth= 12 - 0.6183574879227054\n",
      "F1 при n_estimators : 30 и при max_depth= 13 - 0.6268174474959612\n",
      "F1 при n_estimators : 30 и при max_depth= 14 - 0.6039603960396039\n",
      "F1 при n_estimators : 30 и при max_depth= 15 - 0.6348684210526316\n",
      "F1 при n_estimators : 30 и при max_depth= 16 - 0.6231155778894473\n",
      "F1 при n_estimators : 30 и при max_depth= 17 - 0.6135593220338983\n",
      "F1 при n_estimators : 30 и при max_depth= 18 - 0.6041666666666666\n",
      "F1 при n_estimators : 30 и при max_depth= 19 - 0.6010016694490818\n",
      "F1 при n_estimators : 35 и при max_depth= 1 - 0.5674547983310152\n",
      "F1 при n_estimators : 35 и при max_depth= 2 - 0.5904486251808972\n",
      "F1 при n_estimators : 35 и при max_depth= 3 - 0.5885885885885885\n",
      "F1 при n_estimators : 35 и при max_depth= 4 - 0.599406528189911\n",
      "F1 при n_estimators : 35 и при max_depth= 5 - 0.5945945945945945\n",
      "F1 при n_estimators : 35 и при max_depth= 6 - 0.6132930513595166\n",
      "F1 при n_estimators : 35 и при max_depth= 7 - 0.6259541984732825\n",
      "F1 при n_estimators : 35 и при max_depth= 8 - 0.6217457886676876\n",
      "F1 при n_estimators : 35 и при max_depth= 9 - 0.6428571428571429\n",
      "F1 при n_estimators : 35 и при max_depth= 10 - 0.624405705229794\n",
      "F1 при n_estimators : 35 и при max_depth= 11 - 0.6226415094339623\n",
      "F1 при n_estimators : 35 и при max_depth= 12 - 0.6113821138211382\n",
      "F1 при n_estimators : 35 и при max_depth= 13 - 0.624390243902439\n",
      "F1 при n_estimators : 35 и при max_depth= 14 - 0.6181818181818182\n",
      "F1 при n_estimators : 35 и при max_depth= 15 - 0.6254180602006688\n",
      "F1 при n_estimators : 35 и при max_depth= 16 - 0.622895622895623\n",
      "F1 при n_estimators : 35 и при max_depth= 17 - 0.627318718381113\n",
      "F1 при n_estimators : 35 и при max_depth= 18 - 0.6132879045996592\n",
      "F1 при n_estimators : 35 и при max_depth= 19 - 0.6072607260726073\n",
      "F1 при n_estimators : 40 и при max_depth= 1 - 0.5742574257425743\n",
      "F1 при n_estimators : 40 и при max_depth= 2 - 0.5802650957290133\n",
      "F1 при n_estimators : 40 и при max_depth= 3 - 0.5878877400295421\n",
      "F1 при n_estimators : 40 и при max_depth= 4 - 0.5953079178885631\n",
      "F1 при n_estimators : 40 и при max_depth= 5 - 0.5970149253731344\n",
      "F1 при n_estimators : 40 и при max_depth= 6 - 0.6128048780487805\n",
      "F1 при n_estimators : 40 и при max_depth= 7 - 0.6261398176291793\n",
      "F1 при n_estimators : 40 и при max_depth= 8 - 0.6222910216718267\n",
      "F1 при n_estimators : 40 и при max_depth= 9 - 0.6449612403100775\n",
      "F1 при n_estimators : 40 и при max_depth= 10 - 0.6346153846153846\n",
      "F1 при n_estimators : 40 и при max_depth= 11 - 0.6214511041009464\n",
      "F1 при n_estimators : 40 и при max_depth= 12 - 0.6143790849673202\n",
      "F1 при n_estimators : 40 и при max_depth= 13 - 0.6274509803921569\n",
      "F1 при n_estimators : 40 и при max_depth= 14 - 0.6171617161716172\n",
      "F1 при n_estimators : 40 и при max_depth= 15 - 0.6275167785234899\n",
      "F1 при n_estimators : 40 и при max_depth= 16 - 0.6281833616298811\n",
      "F1 при n_estimators : 40 и при max_depth= 17 - 0.6164383561643835\n",
      "F1 при n_estimators : 40 и при max_depth= 18 - 0.6132404181184669\n",
      "F1 при n_estimators : 40 и при max_depth= 19 - 0.6\n",
      "F1 при n_estimators : 45 и при max_depth= 1 - 0.5638888888888889\n",
      "F1 при n_estimators : 45 и при max_depth= 2 - 0.5806451612903225\n",
      "F1 при n_estimators : 45 и при max_depth= 3 - 0.5892857142857142\n",
      "F1 при n_estimators : 45 и при max_depth= 4 - 0.592375366568915\n",
      "F1 при n_estimators : 45 и при max_depth= 5 - 0.5982142857142857\n",
      "F1 при n_estimators : 45 и при max_depth= 6 - 0.622356495468278\n",
      "F1 при n_estimators : 45 и при max_depth= 7 - 0.6193353474320241\n",
      "F1 при n_estimators : 45 и при max_depth= 8 - 0.6273291925465838\n",
      "F1 при n_estimators : 45 и при max_depth= 9 - 0.6477987421383647\n",
      "F1 при n_estimators : 45 и при max_depth= 10 - 0.629570747217806\n",
      "F1 при n_estimators : 45 и при max_depth= 11 - 0.6265822784810127\n",
      "F1 при n_estimators : 45 и при max_depth= 12 - 0.6166394779771616\n",
      "F1 при n_estimators : 45 и при max_depth= 13 - 0.625\n",
      "F1 при n_estimators : 45 и при max_depth= 14 - 0.6084033613445378\n",
      "F1 при n_estimators : 45 и при max_depth= 15 - 0.6294416243654822\n",
      "F1 при n_estimators : 45 и при max_depth= 16 - 0.6281833616298811\n",
      "F1 при n_estimators : 45 и при max_depth= 17 - 0.6204506065857885\n",
      "F1 при n_estimators : 45 и при max_depth= 18 - 0.623728813559322\n",
      "F1 при n_estimators : 45 и при max_depth= 19 - 0.6171617161716172\n",
      "F1 при n_estimators : 50 и при max_depth= 1 - 0.5594594594594595\n",
      "F1 при n_estimators : 50 и при max_depth= 2 - 0.5773195876288659\n",
      "F1 при n_estimators : 50 и при max_depth= 3 - 0.5866666666666667\n",
      "F1 при n_estimators : 50 и при max_depth= 4 - 0.5934718100890207\n",
      "F1 при n_estimators : 50 и при max_depth= 5 - 0.6071428571428571\n",
      "F1 при n_estimators : 50 и при max_depth= 6 - 0.6212121212121212\n",
      "F1 при n_estimators : 50 и при max_depth= 7 - 0.6210045662100456\n",
      "F1 при n_estimators : 50 и при max_depth= 8 - 0.6246153846153846\n",
      "F1 при n_estimators : 50 и при max_depth= 9 - 0.6518282988871223\n",
      "F1 при n_estimators : 50 и при max_depth= 10 - 0.6273885350318472\n",
      "F1 при n_estimators : 50 и при max_depth= 11 - 0.6349206349206349\n",
      "F1 при n_estimators : 50 и при max_depth= 12 - 0.6108374384236452\n",
      "F1 при n_estimators : 50 и при max_depth= 13 - 0.6331168831168832\n",
      "F1 при n_estimators : 50 и при max_depth= 14 - 0.609715242881072\n",
      "F1 при n_estimators : 50 и при max_depth= 15 - 0.6319327731092438\n",
      "F1 при n_estimators : 50 и при max_depth= 16 - 0.6305084745762711\n",
      "F1 при n_estimators : 50 и при max_depth= 17 - 0.6198630136986302\n",
      "F1 при n_estimators : 50 и при max_depth= 18 - 0.6308492201039861\n",
      "F1 при n_estimators : 50 и при max_depth= 19 - 0.6125211505922166\n"
     ]
    }
   ],
   "source": [
    "for i in range(10, 51, 5):\n",
    "    for j in range(1, 20):\n",
    "        model_forest = RandomForestClassifier(n_estimators = i, max_depth = j, random_state = 12345)\n",
    "        model_forest.fit(features_downsampled, target_downsampled)\n",
    "        predictions_forest = model_forest.predict(features_valid)\n",
    "        f1_forest = f1_score(predictions_forest, target_valid)\n",
    "        print('F1 при n_estimators :', i, 'и при max_depth=', j, '-', f1_forest)"
   ]
  },
  {
   "cell_type": "code",
   "execution_count": 93,
   "metadata": {},
   "outputs": [
    {
     "name": "stdout",
     "output_type": "stream",
     "text": [
      "f1 ЛР = 0.5206349206349206\n"
     ]
    }
   ],
   "source": [
    "model_regression = LogisticRegression(random_state=12345)\n",
    "model_regression.fit(features_downsampled, target_downsampled)\n",
    "predictions_regression = model_regression.predict(features_valid)\n",
    "f1_regression = f1_score(predictions_tree, target_valid)\n",
    "print('f1 ЛР =', f1_regression)"
   ]
  },
  {
   "cell_type": "markdown",
   "metadata": {},
   "source": [
    "## Проверка каждой модели с лучшими гиперпараметрами на тестовых данных.\n"
   ]
  },
  {
   "cell_type": "markdown",
   "metadata": {},
   "source": [
    "Проверка с разными гиперпараметрами показала что для леса оптималььное количество деревьев - 45 и глубина 7, в дереве же лучший результат был при глубине 5\n",
    "\n",
    "проверим эти данные на тестевых данных:"
   ]
  },
  {
   "cell_type": "code",
   "execution_count": 94,
   "metadata": {},
   "outputs": [
    {
     "name": "stdout",
     "output_type": "stream",
     "text": [
      "f1 леса на тестовой выборке = 0.6344605475040258\n"
     ]
    }
   ],
   "source": [
    "model_forest_test = RandomForestClassifier(n_estimators = 45, max_depth = 9, random_state = 12345)\n",
    "model_forest_test.fit(features_downsampled, target_downsampled)\n",
    "predictions_forest_test = model_forest_test.predict(features_test)\n",
    "f1_forest_test = f1_score(predictions_forest_test, target_test)\n",
    "print('f1 леса на тестовой выборке =', f1_forest_test)"
   ]
  },
  {
   "cell_type": "code",
   "execution_count": 95,
   "metadata": {},
   "outputs": [
    {
     "name": "stdout",
     "output_type": "stream",
     "text": [
      "f1 дерева на тестовой выборке = 0.5895061728395061\n"
     ]
    }
   ],
   "source": [
    "model_tree_test = DecisionTreeClassifier(random_state = 112325,  max_depth = 5)\n",
    "model_tree_test.fit(features_downsampled, target_downsampled)\n",
    "predictions_tree_test = model_tree_test.predict(features_test)\n",
    "f1_tree_test = f1_score(predictions_tree_test, target_test)\n",
    "print('f1 дерева на тестовой выборке =', f1_tree_test)"
   ]
  },
  {
   "cell_type": "code",
   "execution_count": 96,
   "metadata": {},
   "outputs": [
    {
     "name": "stdout",
     "output_type": "stream",
     "text": [
      "f1 логистической регрессии на тестевой выборке = 0.5197889182058048\n"
     ]
    }
   ],
   "source": [
    "model_regression_test = LogisticRegression(random_state=12345)\n",
    "model_regression_test.fit(features_downsampled, target_downsampled)\n",
    "predictions_regression_test = model_regression_test.predict(features_test)\n",
    "f1_regression_test = f1_score(predictions_regression_test, target_test)\n",
    "print('f1 логистической регрессии на тестевой выборке =', f1_regression_test)"
   ]
  },
  {
   "cell_type": "markdown",
   "metadata": {},
   "source": [
    "## Вывод"
   ]
  },
  {
   "cell_type": "markdown",
   "metadata": {},
   "source": [
    "из 3 моделей на тестевых данных лучший результат показывает \"случайный лес\".\n",
    "\n"
   ]
  },
  {
   "cell_type": "markdown",
   "metadata": {},
   "source": [
    "## auc roc"
   ]
  },
  {
   "cell_type": "markdown",
   "metadata": {},
   "source": [
    "Для понимания, являются ли предсказания моей лучшей модели случайными или нет, я подсчитаю auc_roc и построю его график"
   ]
  },
  {
   "cell_type": "code",
   "execution_count": 97,
   "metadata": {},
   "outputs": [
    {
     "name": "stdout",
     "output_type": "stream",
     "text": [
      "auc_roc = 0.8595569540237958\n"
     ]
    }
   ],
   "source": [
    "model_forest_test1 = RandomForestClassifier(n_estimators = 45, max_depth = 9, random_state = 12345)\n",
    "model_forest_test1.fit(features_downsampled, target_downsampled)\n",
    "\n",
    "\n",
    "probabilities_test = model_forest_test1.predict_proba(features_test)\n",
    "probabilities_one_test = probabilities_test[:, 1]\n",
    "\n",
    "auc_roc = roc_auc_score(target_test, probabilities_one_test)\n",
    "print('auc_roc =', auc_roc)"
   ]
  },
  {
   "cell_type": "code",
   "execution_count": 98,
   "metadata": {},
   "outputs": [
    {
     "data": {
      "image/png": "[encoded data removed]",
      "text/plain": [
       "<Figure size 432x288 with 1 Axes>"
      ]
     },
     "metadata": {
      "needs_background": "light"
     },
     "output_type": "display_data"
    }
   ],
   "source": [
    "probabilities_test = model_forest_test1.predict_proba(features_test)\n",
    "probabilities_one_test = probabilities_test[:, 1]\n",
    "fpr, tpr, thresholds = roc_curve(target_test, probabilities_one_test)\n",
    "\n",
    "plt.figure()\n",
    "\n",
    "plt.plot(fpr, tpr)\n",
    "\n",
    "\n",
    "plt.plot([0, 1], [0, 1], linestyle='--')\n",
    "\n",
    "plt.xlim([0.0, 1.0])\n",
    "plt.ylim([0.0, 1.0])\n",
    "plt.xlabel('False Positive Rate')\n",
    "plt.ylabel('True Positive Rate')\n",
    "plt.title('ROC-кривая')\n",
    "\n",
    "plt.show()"
   ]
  },
  {
   "cell_type": "markdown",
   "metadata": {},
   "source": []
  },
  {
   "cell_type": "markdown",
   "metadata": {},
   "source": [
    "## Выводы\n"
   ]
  },
  {
   "cell_type": "markdown",
   "metadata": {},
   "source": [
    "Мне удалось добиться F1 score выше 0.59 (0.63) используя увеличение и уменьшенеие выборок и подбирая различные гиперпараметры.\n",
    "\n",
    "График и значения auc roc (0.86) показывают что предсказания модели на случайны."
   ]
  },
  {
   "cell_type": "code",
   "execution_count": null,
   "metadata": {},
   "outputs": [],
   "source": []
  }
 ],
 "metadata": {
  "kernelspec": {
   "display_name": "Python 3",
   "language": "python",
   "name": "python3"
  },
  "language_info": {
   "codemirror_mode": {
    "name": "ipython",
    "version": 3
   },
   "file_extension": ".py",
   "mimetype": "text/x-python",
   "name": "python",
   "nbconvert_exporter": "python",
   "pygments_lexer": "ipython3",
   "version": "3.7.6"
  }
 },
 "nbformat": 4,
 "nbformat_minor": 2
}
