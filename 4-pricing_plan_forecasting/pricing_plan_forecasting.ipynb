{
 "cells": [
  {
   "cell_type": "markdown",
   "metadata": {},
   "source": [
    "# Рекомендация тарифов"
   ]
  },
  {
   "cell_type": "markdown",
   "metadata": {},
   "source": [
    "В вашем распоряжении данные о поведении клиентов, которые уже перешли на эти тарифы (из проекта курса «Статистический анализ данных»). Нужно построить модель для задачи классификации, которая выберет подходящий тариф. Предобработка данных не понадобится — вы её уже сделали.\n",
    "\n",
    "Постройте модель с максимально большим значением *accuracy*. Чтобы сдать проект успешно, нужно довести долю правильных ответов по крайней мере до 0.75. Проверьте *accuracy* на тестовой выборке самостоятельно."
   ]
  },
  {
   "cell_type": "markdown",
   "metadata": {},
   "source": [
    "## 1. Откройте и изучите файл"
   ]
  },
  {
   "cell_type": "code",
   "execution_count": 16,
   "metadata": {},
   "outputs": [],
   "source": [
    "import pandas as pd\n",
    "import joblib\n",
    "from joblib import load\n",
    "from joblib import dump\n",
    "from sklearn.metrics import accuracy_score\n",
    "from sklearn.tree import DecisionTreeClassifier\n",
    "from sklearn.ensemble import RandomForestClassifier\n",
    "from sklearn.linear_model import LogisticRegression\n",
    "from sklearn.tree import DecisionTreeRegressor\n",
    "from sklearn.metrics import mean_squared_error\n",
    "from sklearn.ensemble import RandomForestRegressor\n",
    "from sklearn.linear_model import LinearRegression\n",
    "from sklearn.model_selection import train_test_split\n",
    "from sklearn.dummy import DummyClassifier"
   ]
  },
  {
   "cell_type": "code",
   "execution_count": 2,
   "metadata": {},
   "outputs": [
    {
     "name": "stdout",
     "output_type": "stream",
     "text": [
      "<class 'pandas.core.frame.DataFrame'>\n",
      "RangeIndex: 3214 entries, 0 to 3213\n",
      "Data columns (total 5 columns):\n",
      "calls       3214 non-null float64\n",
      "minutes     3214 non-null float64\n",
      "messages    3214 non-null float64\n",
      "mb_used     3214 non-null float64\n",
      "is_ultra    3214 non-null int64\n",
      "dtypes: float64(4), int64(1)\n",
      "memory usage: 125.7 KB\n"
     ]
    }
   ],
   "source": [
    "df = pd.read_csv('/datasets/users_behavior.csv')\n",
    "df.info()"
   ]
  },
  {
   "cell_type": "code",
   "execution_count": 3,
   "metadata": {},
   "outputs": [
    {
     "data": {
      "text/html": [
       "<div>\n",
       "<style scoped>\n",
       "    .dataframe tbody tr th:only-of-type {\n",
       "        vertical-align: middle;\n",
       "    }\n",
       "\n",
       "    .dataframe tbody tr th {\n",
       "        vertical-align: top;\n",
       "    }\n",
       "\n",
       "    .dataframe thead th {\n",
       "        text-align: right;\n",
       "    }\n",
       "</style>\n",
       "<table border=\"1\" class=\"dataframe\">\n",
       "  <thead>\n",
       "    <tr style=\"text-align: right;\">\n",
       "      <th></th>\n",
       "      <th>calls</th>\n",
       "      <th>minutes</th>\n",
       "      <th>messages</th>\n",
       "      <th>mb_used</th>\n",
       "      <th>is_ultra</th>\n",
       "    </tr>\n",
       "  </thead>\n",
       "  <tbody>\n",
       "    <tr>\n",
       "      <td>0</td>\n",
       "      <td>40.0</td>\n",
       "      <td>311.90</td>\n",
       "      <td>83.0</td>\n",
       "      <td>19915.42</td>\n",
       "      <td>0</td>\n",
       "    </tr>\n",
       "    <tr>\n",
       "      <td>1</td>\n",
       "      <td>85.0</td>\n",
       "      <td>516.75</td>\n",
       "      <td>56.0</td>\n",
       "      <td>22696.96</td>\n",
       "      <td>0</td>\n",
       "    </tr>\n",
       "    <tr>\n",
       "      <td>2</td>\n",
       "      <td>77.0</td>\n",
       "      <td>467.66</td>\n",
       "      <td>86.0</td>\n",
       "      <td>21060.45</td>\n",
       "      <td>0</td>\n",
       "    </tr>\n",
       "    <tr>\n",
       "      <td>3</td>\n",
       "      <td>106.0</td>\n",
       "      <td>745.53</td>\n",
       "      <td>81.0</td>\n",
       "      <td>8437.39</td>\n",
       "      <td>1</td>\n",
       "    </tr>\n",
       "    <tr>\n",
       "      <td>4</td>\n",
       "      <td>66.0</td>\n",
       "      <td>418.74</td>\n",
       "      <td>1.0</td>\n",
       "      <td>14502.75</td>\n",
       "      <td>0</td>\n",
       "    </tr>\n",
       "    <tr>\n",
       "      <td>5</td>\n",
       "      <td>58.0</td>\n",
       "      <td>344.56</td>\n",
       "      <td>21.0</td>\n",
       "      <td>15823.37</td>\n",
       "      <td>0</td>\n",
       "    </tr>\n",
       "    <tr>\n",
       "      <td>6</td>\n",
       "      <td>57.0</td>\n",
       "      <td>431.64</td>\n",
       "      <td>20.0</td>\n",
       "      <td>3738.90</td>\n",
       "      <td>1</td>\n",
       "    </tr>\n",
       "    <tr>\n",
       "      <td>7</td>\n",
       "      <td>15.0</td>\n",
       "      <td>132.40</td>\n",
       "      <td>6.0</td>\n",
       "      <td>21911.60</td>\n",
       "      <td>0</td>\n",
       "    </tr>\n",
       "    <tr>\n",
       "      <td>8</td>\n",
       "      <td>7.0</td>\n",
       "      <td>43.39</td>\n",
       "      <td>3.0</td>\n",
       "      <td>2538.67</td>\n",
       "      <td>1</td>\n",
       "    </tr>\n",
       "    <tr>\n",
       "      <td>9</td>\n",
       "      <td>90.0</td>\n",
       "      <td>665.41</td>\n",
       "      <td>38.0</td>\n",
       "      <td>17358.61</td>\n",
       "      <td>0</td>\n",
       "    </tr>\n",
       "  </tbody>\n",
       "</table>\n",
       "</div>"
      ],
      "text/plain": [
       "   calls  minutes  messages   mb_used  is_ultra\n",
       "0   40.0   311.90      83.0  19915.42         0\n",
       "1   85.0   516.75      56.0  22696.96         0\n",
       "2   77.0   467.66      86.0  21060.45         0\n",
       "3  106.0   745.53      81.0   8437.39         1\n",
       "4   66.0   418.74       1.0  14502.75         0\n",
       "5   58.0   344.56      21.0  15823.37         0\n",
       "6   57.0   431.64      20.0   3738.90         1\n",
       "7   15.0   132.40       6.0  21911.60         0\n",
       "8    7.0    43.39       3.0   2538.67         1\n",
       "9   90.0   665.41      38.0  17358.61         0"
      ]
     },
     "execution_count": 3,
     "metadata": {},
     "output_type": "execute_result"
    }
   ],
   "source": [
    "df.head(10)"
   ]
  },
  {
   "cell_type": "markdown",
   "metadata": {},
   "source": [
    "## 2. Разбейте данные на выборки"
   ]
  },
  {
   "cell_type": "code",
   "execution_count": 4,
   "metadata": {},
   "outputs": [],
   "source": [
    "df_train1, df_valid= train_test_split(df, test_size = 0.20, random_state = 12345)"
   ]
  },
  {
   "cell_type": "code",
   "execution_count": 5,
   "metadata": {},
   "outputs": [],
   "source": [
    "df_train, df_test = train_test_split(df_train1, test_size = 0.25, random_state = 12345)"
   ]
  },
  {
   "cell_type": "markdown",
   "metadata": {},
   "source": [
    "Я разбил выборку в 2 этапа на 3 части - 60% обучающая выборка и 20-20 валидационная и тестовая"
   ]
  },
  {
   "cell_type": "code",
   "execution_count": 6,
   "metadata": {},
   "outputs": [],
   "source": [
    "train_features = df_train.drop(['is_ultra'], axis = 1)\n",
    "train_target = df_train['is_ultra']\n",
    "test_features = df_test.drop(['is_ultra'], axis = 1)\n",
    "test_target = df_test['is_ultra']\n",
    "valid_features = df_valid.drop(['is_ultra'], axis = 1)\n",
    "valid_target = df_valid['is_ultra']"
   ]
  },
  {
   "cell_type": "markdown",
   "metadata": {},
   "source": [
    "## 3. Исследуйте модели"
   ]
  },
  {
   "cell_type": "code",
   "execution_count": 7,
   "metadata": {},
   "outputs": [
    {
     "name": "stdout",
     "output_type": "stream",
     "text": [
      "max_depth : 1 - 0.7480559875583204\n",
      "max_depth : 2 - 0.7838258164852255\n",
      "max_depth : 3 - 0.7869362363919129\n",
      "max_depth : 4 - 0.7869362363919129\n",
      "max_depth : 5 - 0.7884914463452566\n",
      "max_depth : 6 - 0.7807153965785381\n",
      "max_depth : 7 - 0.7822706065318819\n",
      "max_depth : 8 - 0.7776049766718507\n",
      "max_depth : 9 - 0.7838258164852255\n",
      "max_depth : 10 - 0.7729393468118196\n",
      "max_depth : 11 - 0.7698289269051322\n",
      "max_depth : 12 - 0.7651632970451011\n",
      "max_depth : 13 - 0.7511664074650077\n",
      "max_depth : 14 - 0.749611197511664\n",
      "max_depth : 15 - 0.7527216174183515\n"
     ]
    }
   ],
   "source": [
    "for i in range(1,16):    \n",
    "    model_tree = DecisionTreeClassifier(random_state = 112325, max_depth = i)\n",
    "    model_tree.fit(train_features, train_target)\n",
    "    predictions_tree = model_tree.predict(valid_features)\n",
    "    accuracy_tree = accuracy_score(predictions_tree, valid_target)\n",
    "    print('max_depth :', i, '-', accuracy_tree)"
   ]
  },
  {
   "cell_type": "markdown",
   "metadata": {},
   "source": [
    "Первая модель - дерево решений, в данной модели я меняю гиперпараметр - макимальная глубина, лучший результат с гулбиной 5 (0.788)"
   ]
  },
  {
   "cell_type": "code",
   "execution_count": 8,
   "metadata": {},
   "outputs": [
    {
     "name": "stdout",
     "output_type": "stream",
     "text": [
      "n_estimators : 10 - 0.7884914463452566\n",
      "n_estimators : 15 - 0.7947122861586314\n",
      "n_estimators : 20 - 0.7884914463452566\n",
      "n_estimators : 25 - 0.7916018662519441\n",
      "n_estimators : 30 - 0.7993779160186625\n",
      "n_estimators : 35 - 0.7993779160186625\n",
      "n_estimators : 40 - 0.8009331259720062\n",
      "n_estimators : 45 - 0.7993779160186625\n",
      "n_estimators : 50 - 0.7993779160186625\n"
     ]
    }
   ],
   "source": [
    "for i in range(10, 51, 5):\n",
    "    model_forest = RandomForestClassifier(n_estimators = i, max_depth = 10, random_state = 12345)\n",
    "    model_forest.fit(train_features, train_target)\n",
    "    predictions_forest = model_forest.predict(valid_features)\n",
    "    accuracy_forest = accuracy_score(predictions_forest, valid_target)\n",
    "    print('n_estimators :', i, '-', accuracy_forest)"
   ]
  },
  {
   "cell_type": "markdown",
   "metadata": {},
   "source": [
    "Вторая модель - Лес. сдесь я уже могу поменять 2 гиперпараметра, изначально я проверю параметр оценщик (estimators).\n",
    "лучший результат получился при 40 оценщиках. (0.8)"
   ]
  },
  {
   "cell_type": "code",
   "execution_count": 20,
   "metadata": {
    "scrolled": true
   },
   "outputs": [
    {
     "name": "stdout",
     "output_type": "stream",
     "text": [
      "max_depth : 1 - 0.7620528771384136\n",
      "max_depth : 2 - 0.7838258164852255\n",
      "max_depth : 3 - 0.7838258164852255\n",
      "max_depth : 4 - 0.7900466562986003\n",
      "max_depth : 5 - 0.7931570762052877\n",
      "max_depth : 6 - 0.7931570762052877\n",
      "max_depth : 7 - 0.7931570762052877\n",
      "max_depth : 8 - 0.7962674961119751\n",
      "max_depth : 9 - 0.7978227060653188\n",
      "max_depth : 10 - 0.7993779160186625\n",
      "max_depth : 11 - 0.7884914463452566\n",
      "max_depth : 12 - 0.7978227060653188\n",
      "max_depth : 13 - 0.7900466562986003\n",
      "max_depth : 14 - 0.7869362363919129\n",
      "max_depth : 15 - 0.7869362363919129\n",
      "max_depth : 16 - 0.7853810264385692\n",
      "max_depth : 17 - 0.7900466562986003\n",
      "max_depth : 18 - 0.7838258164852255\n",
      "max_depth : 19 - 0.7838258164852255\n"
     ]
    }
   ],
   "source": [
    "for i in range(1, 20):\n",
    "    model_forest = RandomForestClassifier(n_estimators = 40, max_depth = i, random_state = 12345)\n",
    "    model_forest.fit(train_features, train_target)\n",
    "    predictions_forest = model_forest.predict(valid_features)\n",
    "    accuracy_forest = accuracy_score(predictions_forest, valid_target)\n",
    "    print('max_depth :', i, '-', accuracy_forest)"
   ]
  },
  {
   "cell_type": "markdown",
   "metadata": {},
   "source": [
    "Подставив лучший результат estimators, я проверю глубину. Лучшая глубина получается - 10"
   ]
  },
  {
   "cell_type": "code",
   "execution_count": 11,
   "metadata": {},
   "outputs": [
    {
     "name": "stdout",
     "output_type": "stream",
     "text": [
      "0.7527216174183515\n"
     ]
    },
    {
     "name": "stderr",
     "output_type": "stream",
     "text": [
      "/opt/conda/lib/python3.7/site-packages/sklearn/linear_model/logistic.py:432: FutureWarning: Default solver will be changed to 'lbfgs' in 0.22. Specify a solver to silence this warning.\n",
      "  FutureWarning)\n"
     ]
    }
   ],
   "source": [
    "    \n",
    "model_regression = LogisticRegression(random_state=12345)\n",
    "model_regression.fit(train_features, train_target)\n",
    "predictions_regression = model_tree.predict(valid_features)\n",
    "accuracy_regression = accuracy_score(predictions_tree, valid_target)\n",
    "print(accuracy_regression)"
   ]
  },
  {
   "cell_type": "markdown",
   "metadata": {},
   "source": [
    "последняя модель - логистическая регрессия. У данной модели я не могу ничего поменять. результат получился нихе чем у других моделей хотя и достиг нужных 0.75"
   ]
  },
  {
   "cell_type": "markdown",
   "metadata": {},
   "source": [
    "## 4. Проверьте модель на тестовой выборке"
   ]
  },
  {
   "cell_type": "code",
   "execution_count": 12,
   "metadata": {},
   "outputs": [
    {
     "name": "stdout",
     "output_type": "stream",
     "text": [
      "Точность дерева на тестовой выборке : 0.7465007776049767\n"
     ]
    }
   ],
   "source": [
    "\n",
    "predictions_tree = model_tree.predict(test_features)\n",
    "accuracy_tree = accuracy_score(predictions_tree, test_target)\n",
    "print('Точность дерева на тестовой выборке :', accuracy_tree)"
   ]
  },
  {
   "cell_type": "code",
   "execution_count": 13,
   "metadata": {},
   "outputs": [
    {
     "name": "stdout",
     "output_type": "stream",
     "text": [
      "Точность леса на тестовой выборке : 0.7838258164852255\n"
     ]
    }
   ],
   "source": [
    "\n",
    "predictions_forest = model_forest.predict(test_features)\n",
    "accuracy_forest = accuracy_score(predictions_forest, test_target)\n",
    "print('Точность леса на тестовой выборке :', accuracy_forest)"
   ]
  },
  {
   "cell_type": "code",
   "execution_count": 22,
   "metadata": {},
   "outputs": [
    {
     "name": "stdout",
     "output_type": "stream",
     "text": [
      "Точность регрессии на тестовой выборке : 0.7465007776049767\n"
     ]
    }
   ],
   "source": [
    "\n",
    "predictions_regression = model_tree.predict(test_features)\n",
    "accuracy_regression = accuracy_score(predictions_tree, test_target)\n",
    "print('Точность регрессии на тестовой выборке :', accuracy_regression)"
   ]
  },
  {
   "cell_type": "markdown",
   "metadata": {},
   "source": [
    "## 5. (бонус) Проверьте модели на адекватность"
   ]
  },
  {
   "cell_type": "code",
   "execution_count": 19,
   "metadata": {},
   "outputs": [
    {
     "data": {
      "text/plain": [
       "0.6889580093312597"
      ]
     },
     "execution_count": 19,
     "metadata": {},
     "output_type": "execute_result"
    }
   ],
   "source": [
    "dummy_clf = DummyClassifier(strategy=\"most_frequent\")\n",
    "dummy_clf.fit(valid_features, valid_target)\n",
    "DummyClassifier(strategy='most_frequent')\n",
    "dummy_clf.predict(test_features)\n",
    "dummy_clf.score(test_features, test_target)"
   ]
  },
  {
   "cell_type": "markdown",
   "metadata": {},
   "source": [
    "Для проверки адекватоности я использую dummy classifier, что бы посмотреть случайные результаты (как если бы мы подбрасывали монету).\n",
    "\n",
    "Результат получился ниже чем у всех моделей, соответсвенно они работают."
   ]
  },
  {
   "cell_type": "markdown",
   "metadata": {},
   "source": [
    "## 6. Вывод"
   ]
  },
  {
   "cell_type": "markdown",
   "metadata": {},
   "source": [
    "На полученных данных я проверил 3 модели- Дерево, Лес, Регрессия. Наилучший результат показал лес, 0.8. как мне кажется одна из причин то что у леса я мог менять больше 1 гиперпараметра. Хучший результат показала логистическая регрессия 0.75.\n",
    "\n",
    " Далее, каждую модель я проверил на тестовой выборке. результаты получились меньше чем на валидационной. Причем больше всех потеряло дерево (0.4-0.5) остальные - (0.1-0.2)\n",
    " \n",
    " В конце я сравнил результаты тестевых испытайний с случаными результатами. Результаты моих моделей оказались выше случайных что гооврит о их адекватности."
   ]
  },
  {
   "cell_type": "code",
   "execution_count": null,
   "metadata": {},
   "outputs": [],
   "source": []
  }
 ],
 "metadata": {
  "kernelspec": {
   "display_name": "Python 3",
   "language": "python",
   "name": "python3"
  },
  "language_info": {
   "codemirror_mode": {
    "name": "ipython",
    "version": 3
   },
   "file_extension": ".py",
   "mimetype": "text/x-python",
   "name": "python",
   "nbconvert_exporter": "python",
   "pygments_lexer": "ipython3",
   "version": "3.7.6"
  }
 },
 "nbformat": 4,
 "nbformat_minor": 2
}
